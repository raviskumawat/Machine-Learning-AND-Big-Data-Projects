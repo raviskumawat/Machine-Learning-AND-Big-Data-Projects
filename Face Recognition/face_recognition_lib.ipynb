{
 "cells": [
  {
   "cell_type": "code",
   "execution_count": 2,
   "metadata": {},
   "outputs": [],
   "source": [
    "# import the libraries\n",
    "import os\n",
    "import face_recognition"
   ]
  },
  {
   "cell_type": "code",
   "execution_count": 5,
   "metadata": {},
   "outputs": [],
   "source": [
    "# load your image\n",
    "image_to_be_matched = face_recognition.load_image_file('Ravi_.jpg')\n",
    "\n",
    "# encoded the loaded image into a feature vector\n",
    "image_to_be_matched_encoded = face_recognition.face_encodings(\n",
    "    image_to_be_matched)\n"
   ]
  },
  {
   "cell_type": "code",
   "execution_count": 6,
   "metadata": {},
   "outputs": [
    {
     "data": {
      "text/plain": [
       "[array([-0.19174616,  0.15982042,  0.0603686 ,  0.0043982 , -0.04679722,\n",
       "        -0.05069818, -0.03054313, -0.05064246,  0.15369537,  0.03018772,\n",
       "         0.13132052,  0.00495935, -0.17418666, -0.11700694, -0.02133009,\n",
       "         0.06552658, -0.17652977, -0.12836012, -0.0074673 , -0.09718614,\n",
       "         0.04390571,  0.04615557,  0.09372691,  0.07017899, -0.15521488,\n",
       "        -0.35231769, -0.05246564, -0.21921299,  0.02180447, -0.07721633,\n",
       "         0.04253327,  0.0777055 , -0.2221466 , -0.10024971, -0.01013492,\n",
       "         0.07955177,  0.08496564,  0.08086755,  0.14665294, -0.01074791,\n",
       "        -0.07443483, -0.03631698,  0.03215048,  0.27558893,  0.13864674,\n",
       "         0.08043204,  0.0339318 , -0.00484982,  0.14499713, -0.15896788,\n",
       "         0.08403301,  0.09361817,  0.16547711,  0.01792172,  0.07763724,\n",
       "        -0.14635301,  0.06068071,  0.03920019, -0.17573296,  0.10515646,\n",
       "         0.00826373, -0.02690831, -0.01640933,  0.08107921,  0.21391414,\n",
       "         0.0189525 ,  0.01781547, -0.11831188,  0.16146366, -0.09934814,\n",
       "         0.00427841,  0.12962025, -0.09290451, -0.12162654, -0.2091589 ,\n",
       "         0.07961192,  0.34662122,  0.09219714, -0.1714066 ,  0.05210113,\n",
       "        -0.12839699, -0.02917399, -0.00419791, -0.03036777, -0.16034925,\n",
       "         0.04370828, -0.17198241,  0.04139125,  0.18154716,  0.01824085,\n",
       "        -0.03992992,  0.20241991,  0.03024067,  0.06280264,  0.07099988,\n",
       "        -0.05047567, -0.10708916,  0.03213242, -0.13312201, -0.06964507,\n",
       "         0.09604254, -0.03838615, -0.03943385,  0.05055695, -0.20027559,\n",
       "         0.05441135, -0.02659658, -0.0347755 , -0.08527076,  0.04973147,\n",
       "        -0.13426438, -0.05098707,  0.17189403, -0.17862426,  0.19046417,\n",
       "         0.14208484, -0.008679  ,  0.15816298,  0.0407481 ,  0.02009505,\n",
       "         0.00586578, -0.02411567, -0.07191325, -0.05208927,  0.16583534,\n",
       "        -0.06573813,  0.03459252,  0.03365429])]"
      ]
     },
     "execution_count": 6,
     "metadata": {},
     "output_type": "execute_result"
    }
   ],
   "source": [
    "image_to_be_matched_encoded"
   ]
  },
  {
   "cell_type": "code",
   "execution_count": null,
   "metadata": {},
   "outputs": [],
   "source": [
    "# make a list of all the available images\n",
    "images = os.listdir('images')\n",
    "\n",
    "\n",
    "# iterate over each image\n",
    "for image in images:\n",
    "    # load the image\n",
    "    current_image = face_recognition.load_image_file(\"images/\" + image)\n",
    "    # encode the loaded image into a feature vector\n",
    "    current_image_encoded = face_recognition.face_encodings(current_image)[0]\n",
    "    # match your image with the image and check if it matches\n",
    "    result = face_recognition.compare_faces(\n",
    "        [image_to_be_matched_encoded], current_image_encoded)\n",
    "    # check if it was a match\n",
    "    if result[0] == True:\n",
    "        print \"Matched: \" + image\n",
    "    else:\n",
    "        print \"Not matched: \" + image"
   ]
  },
  {
   "cell_type": "code",
   "execution_count": null,
   "metadata": {},
   "outputs": [],
   "source": []
  }
 ],
 "metadata": {
  "kernelspec": {
   "display_name": "Python 3",
   "language": "python",
   "name": "python3"
  },
  "language_info": {
   "codemirror_mode": {
    "name": "ipython",
    "version": 3
   },
   "file_extension": ".py",
   "mimetype": "text/x-python",
   "name": "python",
   "nbconvert_exporter": "python",
   "pygments_lexer": "ipython3",
   "version": "3.6.7"
  },
  "varInspector": {
   "cols": {
    "lenName": 16,
    "lenType": 16,
    "lenVar": 40
   },
   "kernels_config": {
    "python": {
     "delete_cmd_postfix": "",
     "delete_cmd_prefix": "del ",
     "library": "var_list.py",
     "varRefreshCmd": "print(var_dic_list())"
    },
    "r": {
     "delete_cmd_postfix": ") ",
     "delete_cmd_prefix": "rm(",
     "library": "var_list.r",
     "varRefreshCmd": "cat(var_dic_list()) "
    }
   },
   "types_to_exclude": [
    "module",
    "function",
    "builtin_function_or_method",
    "instance",
    "_Feature"
   ],
   "window_display": false
  }
 },
 "nbformat": 4,
 "nbformat_minor": 2
}
