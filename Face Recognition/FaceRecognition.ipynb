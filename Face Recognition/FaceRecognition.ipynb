{
 "cells": [
  {
   "cell_type": "code",
   "execution_count": 44,
   "metadata": {
    "colab": {
     "base_uri": "https://localhost:8080/",
     "height": 34
    },
    "colab_type": "code",
    "id": "5d1eV5k9cGX_",
    "outputId": "cea553f2-a0eb-4093-b462-e2c731b7de23"
   },
   "outputs": [
    {
     "name": "stdout",
     "output_type": "stream",
     "text": [
      "Once deleted, variables cannot be recovered. Proceed (y/[n])? y\n"
     ]
    }
   ],
   "source": [
    "%reset"
   ]
  },
  {
   "cell_type": "code",
   "execution_count": 1,
   "metadata": {
    "colab": {
     "base_uri": "https://localhost:8080/",
     "height": 34
    },
    "colab_type": "code",
    "id": "rpOLa7Sw0O-B",
    "outputId": "6c00974a-5ca0-4b1f-99b5-a30b7902497b"
   },
   "outputs": [
    {
     "name": "stderr",
     "output_type": "stream",
     "text": [
      "Using TensorFlow backend.\n"
     ]
    }
   ],
   "source": [
    "#https://medium.com/@14prakash/transfer-learning-using-keras-d804b2e04ef8\n",
    "\n",
    "from keras import applications\n",
    "import cv2\n",
    "import re\n",
    "import os\n",
    "import random\n",
    "from keras.preprocessing.image import ImageDataGenerator\n",
    "from keras import optimizers\n",
    "from keras.models import Sequential, Model \n",
    "from keras.layers import Dropout, Flatten, Dense, GlobalAveragePooling2D,Conv2D\n",
    "from keras import backend as k \n",
    "from keras.callbacks import ModelCheckpoint, LearningRateScheduler, TensorBoard, EarlyStopping\n",
    "import numpy as np\n",
    "from keras.utils import to_categorical"
   ]
  },
  {
   "cell_type": "code",
   "execution_count": 6,
   "metadata": {
    "colab": {},
    "colab_type": "code",
    "id": "kcfZT0aJ0Z65"
   },
   "outputs": [
    {
     "name": "stdout",
     "output_type": "stream",
     "text": [
      "(166, 256, 256, 3)\n",
      "(24, 256, 256, 3)\n"
     ]
    }
   ],
   "source": [
    "img_width=256\n",
    "img_height=256\n",
    "oneHot2Name={}\n",
    "\n",
    "\n",
    "\n",
    "\n",
    "\n",
    "def load_small_img_dataset(path=os.getcwd()):\n",
    "    data=[]\n",
    "    labels=[]\n",
    "    for image in os.listdir(path):\n",
    "        if image.endswith(('.jpg','.jpeg','.png','bmp')):\n",
    "            #print(image)\n",
    "            label=re.findall('^(.*)_.*',image)[0]\n",
    "            labels.append(label)\n",
    "            pixels=cv2.imread(os.path.join(path,image))\n",
    "            pixels=cv2.resize(pixels,(256,256),interpolation=cv2.INTER_CUBIC)\n",
    "            \n",
    "            #first make all images of same size using crop\n",
    "            data.append(pixels)\n",
    "            \n",
    "    return data,labels\n",
    "\n",
    "x,y=load_small_img_dataset('D:\\dataset\\Image\\Face Dataset custom')\n",
    "\n",
    "\n",
    "\n",
    "\n",
    "\n",
    "persons=set(y)\n",
    "num_persons=len(set(y))\n",
    "categorical_mapping={}\n",
    "\n",
    "#convert into one hot encoding\n",
    "for i,name in enumerate(persons):\n",
    "    #print(i,name)\n",
    "    categorical_mapping[name]=i\n",
    "\n",
    "output_d=[]\n",
    "\n",
    "for i_ in y:\n",
    "    i_=categorical_mapping[i_]\n",
    "    output_d.append(i_)\n",
    "output_d=to_categorical(output_d)\n",
    "\n",
    "from sklearn.utils import shuffle\n",
    "def test_train_dev_split(input_data,output_data,train=0.7,dev=0.2,test=0.1):\n",
    "    #make seed for exact results everything\n",
    "    #random.sort(dataset)\n",
    "    #np.random.seed(2)\n",
    "    #np.random.shuffle(input_data)\n",
    "    #np.random.shuffle(output_data)\n",
    "    input_data, output_data = shuffle(input_data, output_data, random_state=0)\n",
    "    split1=int(train*len(input_data))\n",
    "    split2=int((train+dev)*len(input_data))\n",
    "    train_input=input_data[:split1]\n",
    "    dev_input=input_data[split1:split2]\n",
    "    test_input=input_data[split2:]\n",
    "    \n",
    "    \n",
    "    train_output=output_data[:split1]\n",
    "    dev_output=output_data[split1:split2]\n",
    "    test_output=output_data[split2:]\n",
    "    \n",
    "    return np.array(train_input),np.array(train_output),np.array(dev_input),np.array(dev_output),np.array(test_input),np.array(test_output)\n",
    "\n",
    "train_input,train_output,dev_input,dev_output,test_input,test_output=test_train_dev_split(x,output_d)\n",
    "for i in categorical_mapping.keys():\n",
    "    oneHot2Name[categorical_mapping[i]]=i\n",
    "\n",
    "\n",
    "\n",
    "\n",
    "oneHot2Name\n",
    "cv2.imshow(oneHot2Name[np.argmax(train_output[13])],train_input[13])\n",
    "cv2.waitKey()\n",
    "cv2.destroyAllWindows()\n",
    "\n",
    "\n",
    "# to convert our data type to float32 and normalize our database\n",
    "train_input=train_input.astype('float32')\n",
    "dev_input=dev_input.astype('float32')\n",
    "test_input=test_input.astype('float32')\n",
    "print(train_input.shape)\n",
    "print(test_input.shape)\n",
    "\n",
    "\n",
    "# Z-scoring or Gaussian Normalization\n",
    "train_input=train_input - np.mean(train_input) / train_input.std()\n",
    "dev_input=dev_input - np.mean(dev_input) / dev_input.std()\n",
    "test_input=test_input - np.mean(test_input) / test_input.std()\n",
    "categorical_mapping\n",
    "\n",
    "\n",
    "train_input=train_input/255.0\n",
    "dev_input=dev_input/255.0\n",
    "test_input=test_input/255.0"
   ]
  },
  {
   "cell_type": "code",
   "execution_count": 7,
   "metadata": {},
   "outputs": [
    {
     "data": {
      "text/plain": [
       "{'Das': 0,\n",
       " 'Ravi': 1,\n",
       " 'Surya': 2,\n",
       " 'Vandana': 3,\n",
       " 'Faisal': 4,\n",
       " 'Mummy': 5,\n",
       " 'Papa': 6,\n",
       " 'Inder': 7,\n",
       " 'Nikhil': 8,\n",
       " 'NikhilAgarwal': 9}"
      ]
     },
     "execution_count": 7,
     "metadata": {},
     "output_type": "execute_result"
    }
   ],
   "source": [
    "categorical_mapping"
   ]
  },
  {
   "cell_type": "code",
   "execution_count": 8,
   "metadata": {
    "colab": {},
    "colab_type": "code",
    "id": "gF2yrYat0O-b"
   },
   "outputs": [],
   "source": [
    "#Saving into numpy arrays\n",
    "np.save('train_in.npy',train_input)\n",
    "np.save('train_out.npy',train_output)\n",
    "np.save('dev_in.npy',dev_input)\n",
    "np.save('dev_out.npy',dev_output)\n",
    "np.save('test_in.npy',test_input)\n",
    "np.save('test_out.npy',test_output)\n",
    "np.save('num_persons.npy',num_persons)\n",
    "np.save('categorical_mapping.npy',categorical_mapping)\n",
    "\n",
    "\n",
    "\n"
   ]
  },
  {
   "cell_type": "code",
   "execution_count": 0,
   "metadata": {
    "colab": {},
    "colab_type": "code",
    "id": "ayYCnugt0O-g"
   },
   "outputs": [],
   "source": [
    "# Load data from saved numpy arrays\n",
    "\n",
    "\n",
    "train_input=np.load('train_in.npy')\n",
    "train_output=np.load('train_out.npy')\n",
    "dev_input=np.load('dev_in.npy')\n",
    "dev_output=np.load('dev_out.npy')\n",
    "test_input=np.load('test_in.npy')\n",
    "test_output=np.load('test_out.npy')\n",
    "num_persons=np.load('num_persons.npy')\n",
    "categorical_mapping=np.load('categorical_mapping.npy')\n"
   ]
  },
  {
   "cell_type": "code",
   "execution_count": 133,
   "metadata": {
    "colab": {
     "base_uri": "https://localhost:8080/",
     "height": 54
    },
    "colab_type": "code",
    "id": "DOtlX4JxOplp",
    "outputId": "8351b92b-d851-4848-cbfc-d4c4134821ae"
   },
   "outputs": [
    {
     "data": {
      "text/plain": [
       "'random.seed(20)\\nrandom.shuffle(train_input)\\nrandom.shuffle(train_output)\\nrandom.shuffle(dev_input)\\nrandom.shuffle(dev_output)\\nrandom.shuffle(test_input)\\nrandom.shuffle(test_output)\\n'"
      ]
     },
     "execution_count": 133,
     "metadata": {
      "tags": []
     },
     "output_type": "execute_result"
    }
   ],
   "source": [
    "'''random.seed(20)\n",
    "random.shuffle(train_input)\n",
    "random.shuffle(train_output)\n",
    "random.shuffle(dev_input)\n",
    "random.shuffle(dev_output)\n",
    "random.shuffle(test_input)\n",
    "random.shuffle(test_output)\n",
    "'''"
   ]
  },
  {
   "cell_type": "code",
   "execution_count": 134,
   "metadata": {
    "colab": {
     "base_uri": "https://localhost:8080/",
     "height": 782
    },
    "colab_type": "code",
    "id": "AifQJYYQBjxv",
    "outputId": "13cb5aec-c988-4328-fe9c-eeb007e1605b"
   },
   "outputs": [
    {
     "data": {
      "text/plain": [
       "array([[0., 0., 0., 0., 0., 0., 0., 0., 0., 0., 1., 0., 0., 0.],\n",
       "       [0., 0., 0., 0., 0., 0., 0., 0., 0., 0., 0., 0., 1., 0.],\n",
       "       [0., 0., 0., 0., 0., 0., 0., 0., 0., 0., 0., 1., 0., 0.],\n",
       "       [0., 0., 0., 0., 0., 0., 0., 0., 0., 0., 0., 0., 1., 0.],\n",
       "       [1., 0., 0., 0., 0., 0., 0., 0., 0., 0., 0., 0., 0., 0.],\n",
       "       [0., 0., 0., 0., 0., 0., 0., 0., 0., 0., 0., 0., 1., 0.],\n",
       "       [0., 1., 0., 0., 0., 0., 0., 0., 0., 0., 0., 0., 0., 0.],\n",
       "       [0., 0., 0., 0., 0., 1., 0., 0., 0., 0., 0., 0., 0., 0.],\n",
       "       [0., 0., 0., 0., 0., 0., 0., 0., 0., 0., 0., 0., 1., 0.],\n",
       "       [0., 0., 0., 0., 0., 0., 1., 0., 0., 0., 0., 0., 0., 0.],\n",
       "       [0., 0., 0., 0., 0., 0., 0., 0., 0., 0., 1., 0., 0., 0.],\n",
       "       [0., 0., 0., 0., 0., 0., 0., 0., 0., 0., 0., 1., 0., 0.],\n",
       "       [0., 0., 0., 0., 0., 0., 0., 0., 0., 0., 1., 0., 0., 0.],\n",
       "       [0., 0., 0., 0., 0., 0., 0., 0., 0., 0., 1., 0., 0., 0.],\n",
       "       [0., 0., 0., 0., 0., 0., 0., 0., 0., 0., 1., 0., 0., 0.],\n",
       "       [0., 0., 0., 0., 0., 0., 1., 0., 0., 0., 0., 0., 0., 0.],\n",
       "       [0., 0., 0., 0., 0., 0., 0., 0., 0., 0., 0., 0., 1., 0.],\n",
       "       [0., 0., 0., 0., 0., 0., 0., 0., 0., 0., 1., 0., 0., 0.],\n",
       "       [0., 0., 1., 0., 0., 0., 0., 0., 0., 0., 0., 0., 0., 0.],\n",
       "       [0., 0., 0., 0., 0., 0., 0., 0., 0., 0., 0., 0., 1., 0.],\n",
       "       [0., 0., 0., 0., 0., 0., 1., 0., 0., 0., 0., 0., 0., 0.],\n",
       "       [0., 0., 0., 0., 0., 0., 0., 0., 0., 0., 1., 0., 0., 0.],\n",
       "       [0., 0., 0., 0., 0., 0., 0., 0., 0., 0., 1., 0., 0., 0.],\n",
       "       [0., 0., 0., 0., 0., 0., 0., 0., 0., 0., 1., 0., 0., 0.],\n",
       "       [0., 0., 0., 0., 0., 0., 0., 0., 0., 0., 0., 1., 0., 0.],\n",
       "       [0., 0., 0., 0., 0., 0., 0., 0., 0., 0., 0., 0., 1., 0.],\n",
       "       [0., 0., 0., 0., 0., 0., 0., 0., 0., 0., 1., 0., 0., 0.],\n",
       "       [0., 0., 0., 0., 0., 0., 1., 0., 0., 0., 0., 0., 0., 0.],\n",
       "       [0., 0., 0., 0., 0., 0., 0., 0., 0., 0., 0., 1., 0., 0.],\n",
       "       [0., 0., 0., 0., 0., 0., 0., 0., 0., 0., 0., 0., 1., 0.],\n",
       "       [0., 1., 0., 0., 0., 0., 0., 0., 0., 0., 0., 0., 0., 0.],\n",
       "       [0., 0., 0., 0., 0., 0., 0., 0., 0., 0., 0., 0., 1., 0.],\n",
       "       [0., 0., 0., 0., 0., 0., 0., 0., 0., 0., 0., 0., 1., 0.],\n",
       "       [0., 0., 0., 0., 0., 0., 0., 0., 0., 0., 1., 0., 0., 0.],\n",
       "       [0., 0., 0., 0., 0., 0., 0., 0., 0., 0., 0., 1., 0., 0.],\n",
       "       [0., 0., 0., 0., 0., 0., 1., 0., 0., 0., 0., 0., 0., 0.],\n",
       "       [0., 0., 0., 0., 0., 0., 0., 0., 0., 0., 1., 0., 0., 0.],\n",
       "       [0., 0., 0., 0., 0., 0., 0., 0., 0., 0., 0., 1., 0., 0.],\n",
       "       [0., 0., 0., 0., 0., 0., 1., 0., 0., 0., 0., 0., 0., 0.],\n",
       "       [0., 0., 0., 0., 0., 0., 0., 0., 0., 0., 1., 0., 0., 0.],\n",
       "       [0., 0., 0., 0., 0., 0., 0., 0., 0., 1., 0., 0., 0., 0.],\n",
       "       [0., 0., 0., 0., 0., 1., 0., 0., 0., 0., 0., 0., 0., 0.],\n",
       "       [0., 0., 0., 0., 0., 0., 0., 0., 0., 1., 0., 0., 0., 0.],\n",
       "       [0., 0., 0., 0., 0., 1., 0., 0., 0., 0., 0., 0., 0., 0.]],\n",
       "      dtype=float32)"
      ]
     },
     "execution_count": 134,
     "metadata": {
      "tags": []
     },
     "output_type": "execute_result"
    }
   ],
   "source": [
    "train_output"
   ]
  },
  {
   "cell_type": "code",
   "execution_count": 135,
   "metadata": {
    "colab": {
     "base_uri": "https://localhost:8080/",
     "height": 54
    },
    "colab_type": "code",
    "id": "nNltwrIv0O-k",
    "outputId": "883a1093-adb9-457c-ba3c-f6e123eab117"
   },
   "outputs": [
    {
     "data": {
      "text/plain": [
       "'model = applications.VGG19(weights = \"imagenet\", include_top=False, input_shape = (img_width, img_height, 3))\\nfor layer in model.layers[:19]:\\n    layer.trainable = False'"
      ]
     },
     "execution_count": 135,
     "metadata": {
      "tags": []
     },
     "output_type": "execute_result"
    }
   ],
   "source": [
    "'''model = applications.VGG19(weights = \"imagenet\", include_top=False, input_shape = (img_width, img_height, 3))\n",
    "for layer in model.layers[:19]:\n",
    "    layer.trainable = False'''"
   ]
  },
  {
   "cell_type": "code",
   "execution_count": 0,
   "metadata": {
    "colab": {},
    "colab_type": "code",
    "id": "lwwYWqLK0O-o"
   },
   "outputs": [],
   "source": []
  },
  {
   "cell_type": "code",
   "execution_count": 0,
   "metadata": {
    "colab": {},
    "colab_type": "code",
    "id": "SkyxQxrd0O-w"
   },
   "outputs": [],
   "source": [
    "\n"
   ]
  },
  {
   "cell_type": "code",
   "execution_count": 0,
   "metadata": {
    "colab": {},
    "colab_type": "code",
    "id": "iLGD_tm60O-4"
   },
   "outputs": [],
   "source": []
  },
  {
   "cell_type": "code",
   "execution_count": 0,
   "metadata": {
    "colab": {},
    "colab_type": "code",
    "id": "cU2dXPtA0O-9"
   },
   "outputs": [],
   "source": []
  },
  {
   "cell_type": "code",
   "execution_count": 0,
   "metadata": {
    "colab": {},
    "colab_type": "code",
    "id": "TKIo6ayj0O_E"
   },
   "outputs": [],
   "source": [
    "#Adding custom Layers \n",
    "model=Sequential()\n",
    "model.add(Conv2D(5,3,input_shape=(100,100,3),activation='relu',padding='same'))\n",
    "\n",
    "\n",
    "x = model.output\n",
    "x = Flatten()(x)\n",
    "x = Dense(12, activation=\"relu\")(x)\n",
    "x = Dropout(0.3)(x)\n",
    "predictions = Dense(num_persons, activation=\"sigmoid\")(x)\n",
    "\n",
    "# creating the final model \n",
    "model_final = Model(inputs = model.input, outputs = predictions)\n",
    "sgd = optimizers.SGD(lr=0.001, decay=1e-6, momentum=0.9, nesterov=True)\n",
    "# compile the model \n",
    "model_final.compile( optimizer='sgd',loss = \"categorical_crossentropy\", metrics=[\"accuracy\"])\n"
   ]
  },
  {
   "cell_type": "code",
   "execution_count": 148,
   "metadata": {
    "colab": {
     "base_uri": "https://localhost:8080/",
     "height": 34
    },
    "colab_type": "code",
    "id": "BoWBXxIw0O_H",
    "outputId": "dd71eebd-2352-445f-bad4-23de55b0d018"
   },
   "outputs": [
    {
     "data": {
      "text/plain": [
       "(None, array(14, dtype=int32))"
      ]
     },
     "execution_count": 148,
     "metadata": {
      "tags": []
     },
     "output_type": "execute_result"
    }
   ],
   "source": [
    "model_final.output_shape"
   ]
  },
  {
   "cell_type": "code",
   "execution_count": 149,
   "metadata": {
    "colab": {
     "base_uri": "https://localhost:8080/",
     "height": 782
    },
    "colab_type": "code",
    "id": "w5rMIzi30O_P",
    "outputId": "d8d0ddd3-5eae-42c1-c9e7-5a70156c69f0"
   },
   "outputs": [
    {
     "data": {
      "text/plain": [
       "array([[0., 0., 0., 0., 0., 0., 0., 0., 0., 0., 1., 0., 0., 0.],\n",
       "       [0., 0., 0., 0., 0., 0., 0., 0., 0., 0., 0., 0., 1., 0.],\n",
       "       [0., 0., 0., 0., 0., 0., 0., 0., 0., 0., 0., 1., 0., 0.],\n",
       "       [0., 0., 0., 0., 0., 0., 0., 0., 0., 0., 0., 0., 1., 0.],\n",
       "       [1., 0., 0., 0., 0., 0., 0., 0., 0., 0., 0., 0., 0., 0.],\n",
       "       [0., 0., 0., 0., 0., 0., 0., 0., 0., 0., 0., 0., 1., 0.],\n",
       "       [0., 1., 0., 0., 0., 0., 0., 0., 0., 0., 0., 0., 0., 0.],\n",
       "       [0., 0., 0., 0., 0., 1., 0., 0., 0., 0., 0., 0., 0., 0.],\n",
       "       [0., 0., 0., 0., 0., 0., 0., 0., 0., 0., 0., 0., 1., 0.],\n",
       "       [0., 0., 0., 0., 0., 0., 1., 0., 0., 0., 0., 0., 0., 0.],\n",
       "       [0., 0., 0., 0., 0., 0., 0., 0., 0., 0., 1., 0., 0., 0.],\n",
       "       [0., 0., 0., 0., 0., 0., 0., 0., 0., 0., 0., 1., 0., 0.],\n",
       "       [0., 0., 0., 0., 0., 0., 0., 0., 0., 0., 1., 0., 0., 0.],\n",
       "       [0., 0., 0., 0., 0., 0., 0., 0., 0., 0., 1., 0., 0., 0.],\n",
       "       [0., 0., 0., 0., 0., 0., 0., 0., 0., 0., 1., 0., 0., 0.],\n",
       "       [0., 0., 0., 0., 0., 0., 1., 0., 0., 0., 0., 0., 0., 0.],\n",
       "       [0., 0., 0., 0., 0., 0., 0., 0., 0., 0., 0., 0., 1., 0.],\n",
       "       [0., 0., 0., 0., 0., 0., 0., 0., 0., 0., 1., 0., 0., 0.],\n",
       "       [0., 0., 1., 0., 0., 0., 0., 0., 0., 0., 0., 0., 0., 0.],\n",
       "       [0., 0., 0., 0., 0., 0., 0., 0., 0., 0., 0., 0., 1., 0.],\n",
       "       [0., 0., 0., 0., 0., 0., 1., 0., 0., 0., 0., 0., 0., 0.],\n",
       "       [0., 0., 0., 0., 0., 0., 0., 0., 0., 0., 1., 0., 0., 0.],\n",
       "       [0., 0., 0., 0., 0., 0., 0., 0., 0., 0., 1., 0., 0., 0.],\n",
       "       [0., 0., 0., 0., 0., 0., 0., 0., 0., 0., 1., 0., 0., 0.],\n",
       "       [0., 0., 0., 0., 0., 0., 0., 0., 0., 0., 0., 1., 0., 0.],\n",
       "       [0., 0., 0., 0., 0., 0., 0., 0., 0., 0., 0., 0., 1., 0.],\n",
       "       [0., 0., 0., 0., 0., 0., 0., 0., 0., 0., 1., 0., 0., 0.],\n",
       "       [0., 0., 0., 0., 0., 0., 1., 0., 0., 0., 0., 0., 0., 0.],\n",
       "       [0., 0., 0., 0., 0., 0., 0., 0., 0., 0., 0., 1., 0., 0.],\n",
       "       [0., 0., 0., 0., 0., 0., 0., 0., 0., 0., 0., 0., 1., 0.],\n",
       "       [0., 1., 0., 0., 0., 0., 0., 0., 0., 0., 0., 0., 0., 0.],\n",
       "       [0., 0., 0., 0., 0., 0., 0., 0., 0., 0., 0., 0., 1., 0.],\n",
       "       [0., 0., 0., 0., 0., 0., 0., 0., 0., 0., 0., 0., 1., 0.],\n",
       "       [0., 0., 0., 0., 0., 0., 0., 0., 0., 0., 1., 0., 0., 0.],\n",
       "       [0., 0., 0., 0., 0., 0., 0., 0., 0., 0., 0., 1., 0., 0.],\n",
       "       [0., 0., 0., 0., 0., 0., 1., 0., 0., 0., 0., 0., 0., 0.],\n",
       "       [0., 0., 0., 0., 0., 0., 0., 0., 0., 0., 1., 0., 0., 0.],\n",
       "       [0., 0., 0., 0., 0., 0., 0., 0., 0., 0., 0., 1., 0., 0.],\n",
       "       [0., 0., 0., 0., 0., 0., 1., 0., 0., 0., 0., 0., 0., 0.],\n",
       "       [0., 0., 0., 0., 0., 0., 0., 0., 0., 0., 1., 0., 0., 0.],\n",
       "       [0., 0., 0., 0., 0., 0., 0., 0., 0., 1., 0., 0., 0., 0.],\n",
       "       [0., 0., 0., 0., 0., 1., 0., 0., 0., 0., 0., 0., 0., 0.],\n",
       "       [0., 0., 0., 0., 0., 0., 0., 0., 0., 1., 0., 0., 0., 0.],\n",
       "       [0., 0., 0., 0., 0., 1., 0., 0., 0., 0., 0., 0., 0., 0.]],\n",
       "      dtype=float32)"
      ]
     },
     "execution_count": 149,
     "metadata": {
      "tags": []
     },
     "output_type": "execute_result"
    }
   ],
   "source": [
    "train_output"
   ]
  },
  {
   "cell_type": "code",
   "execution_count": 10,
   "metadata": {
    "colab": {
     "base_uri": "https://localhost:8080/",
     "height": 34
    },
    "colab_type": "code",
    "id": "VRpOGL79aAkg",
    "outputId": "cb9a2d3f-5159-4203-d561-0d404fa28893"
   },
   "outputs": [
    {
     "data": {
      "text/plain": [
       "array([[0., 0., 1., 0., 0., 0., 0., 0., 0., 0.],\n",
       "       [0., 1., 0., 0., 0., 0., 0., 0., 0., 0.],\n",
       "       [0., 0., 0., 0., 0., 0., 1., 0., 0., 0.],\n",
       "       [0., 0., 0., 0., 0., 0., 1., 0., 0., 0.],\n",
       "       [0., 1., 0., 0., 0., 0., 0., 0., 0., 0.],\n",
       "       [0., 0., 1., 0., 0., 0., 0., 0., 0., 0.],\n",
       "       [0., 1., 0., 0., 0., 0., 0., 0., 0., 0.],\n",
       "       [0., 0., 1., 0., 0., 0., 0., 0., 0., 0.],\n",
       "       [0., 0., 0., 0., 0., 0., 0., 1., 0., 0.],\n",
       "       [0., 0., 1., 0., 0., 0., 0., 0., 0., 0.]], dtype=float32)"
      ]
     },
     "execution_count": 10,
     "metadata": {},
     "output_type": "execute_result"
    }
   ],
   "source": [
    "train_output[0:10]"
   ]
  },
  {
   "cell_type": "code",
   "execution_count": 151,
   "metadata": {
    "colab": {
     "base_uri": "https://localhost:8080/",
     "height": 1516
    },
    "colab_type": "code",
    "id": "kzUH5hUz0O_a",
    "outputId": "e27e4fcc-7587-4801-e845-ee9ba026a4f0"
   },
   "outputs": [
    {
     "name": "stdout",
     "output_type": "stream",
     "text": [
      "Train on 44 samples, validate on 6 samples\n",
      "Epoch 1/1000\n",
      "44/44 [==============================] - 2s 53ms/step - loss: 4.7257 - acc: 0.0909 - val_loss: 9.1752 - val_acc: 0.0000e+00\n",
      "\n",
      "Epoch 00001: val_acc improved from -inf to 0.00000, saving model to vgg16_1.h5\n",
      "Epoch 2/1000\n",
      "44/44 [==============================] - 0s 1ms/step - loss: 6.2787 - acc: 0.0682 - val_loss: 9.1752 - val_acc: 0.0000e+00\n",
      "\n",
      "Epoch 00002: val_acc did not improve from 0.00000\n",
      "Epoch 3/1000\n",
      "44/44 [==============================] - 0s 1ms/step - loss: 5.6377 - acc: 0.0455 - val_loss: 9.1577 - val_acc: 0.0000e+00\n",
      "\n",
      "Epoch 00003: val_acc did not improve from 0.00000\n",
      "Epoch 4/1000\n",
      "44/44 [==============================] - 0s 1ms/step - loss: 6.2237 - acc: 0.0227 - val_loss: 9.1577 - val_acc: 0.0000e+00\n",
      "\n",
      "Epoch 00004: val_acc did not improve from 0.00000\n",
      "Epoch 5/1000\n",
      "44/44 [==============================] - 0s 1ms/step - loss: 4.9894 - acc: 0.0682 - val_loss: 9.1577 - val_acc: 0.0000e+00\n",
      "\n",
      "Epoch 00005: val_acc did not improve from 0.00000\n",
      "Epoch 6/1000\n",
      "44/44 [==============================] - 0s 1ms/step - loss: 5.0096 - acc: 0.0682 - val_loss: 9.1577 - val_acc: 0.0000e+00\n",
      "\n",
      "Epoch 00006: val_acc did not improve from 0.00000\n",
      "Epoch 7/1000\n",
      "44/44 [==============================] - 0s 1ms/step - loss: 4.9559 - acc: 0.0682 - val_loss: 9.1577 - val_acc: 0.0000e+00\n",
      "\n",
      "Epoch 00007: val_acc did not improve from 0.00000\n",
      "Epoch 8/1000\n",
      "44/44 [==============================] - 0s 1ms/step - loss: 5.2789 - acc: 0.0682 - val_loss: 9.1577 - val_acc: 0.0000e+00\n",
      "\n",
      "Epoch 00008: val_acc did not improve from 0.00000\n",
      "Epoch 9/1000\n",
      "44/44 [==============================] - 0s 1ms/step - loss: 5.2578 - acc: 0.0455 - val_loss: 9.0988 - val_acc: 0.0000e+00\n",
      "\n",
      "Epoch 00009: val_acc did not improve from 0.00000\n",
      "Epoch 10/1000\n",
      "44/44 [==============================] - 0s 1ms/step - loss: 6.5356 - acc: 0.0227 - val_loss: 9.0988 - val_acc: 0.0000e+00\n",
      "\n",
      "Epoch 00010: val_acc did not improve from 0.00000\n",
      "Epoch 11/1000\n",
      "44/44 [==============================] - 0s 1ms/step - loss: 4.9768 - acc: 0.0682 - val_loss: 9.0988 - val_acc: 0.0000e+00\n",
      "\n",
      "Epoch 00011: val_acc did not improve from 0.00000\n",
      "Epoch 12/1000\n",
      "44/44 [==============================] - 0s 1ms/step - loss: 5.8898 - acc: 0.0682 - val_loss: 9.0988 - val_acc: 0.0000e+00\n",
      "\n",
      "Epoch 00012: val_acc did not improve from 0.00000\n",
      "Epoch 13/1000\n",
      "44/44 [==============================] - 0s 1ms/step - loss: 5.6039 - acc: 0.0455 - val_loss: 9.0988 - val_acc: 0.0000e+00\n",
      "\n",
      "Epoch 00013: val_acc did not improve from 0.00000\n",
      "Epoch 14/1000\n",
      "44/44 [==============================] - 0s 1ms/step - loss: 4.4910 - acc: 0.0682 - val_loss: 6.9078 - val_acc: 0.0000e+00\n",
      "\n",
      "Epoch 00014: val_acc did not improve from 0.00000\n",
      "Epoch 15/1000\n",
      "44/44 [==============================] - 0s 1ms/step - loss: 4.7492 - acc: 0.0227 - val_loss: 6.9078 - val_acc: 0.0000e+00\n",
      "\n",
      "Epoch 00015: val_acc did not improve from 0.00000\n",
      "Epoch 16/1000\n",
      "44/44 [==============================] - 0s 1ms/step - loss: 4.4387 - acc: 0.0455 - val_loss: 6.9078 - val_acc: 0.0000e+00\n",
      "\n",
      "Epoch 00016: val_acc did not improve from 0.00000\n",
      "Epoch 17/1000\n",
      "44/44 [==============================] - 0s 1ms/step - loss: 3.8332 - acc: 0.0227 - val_loss: 6.9078 - val_acc: 0.0000e+00\n",
      "\n",
      "Epoch 00017: val_acc did not improve from 0.00000\n",
      "Epoch 18/1000\n",
      "44/44 [==============================] - 0s 1ms/step - loss: 6.9617 - acc: 0.0227 - val_loss: 6.9078 - val_acc: 0.0000e+00\n",
      "\n",
      "Epoch 00018: val_acc did not improve from 0.00000\n",
      "Epoch 19/1000\n",
      "44/44 [==============================] - 0s 2ms/step - loss: 5.3705 - acc: 0.0455 - val_loss: 6.9078 - val_acc: 0.0000e+00\n",
      "\n",
      "Epoch 00019: val_acc did not improve from 0.00000\n",
      "Epoch 20/1000\n",
      "44/44 [==============================] - 0s 1ms/step - loss: 5.0591 - acc: 0.0000e+00 - val_loss: 6.9078 - val_acc: 0.0000e+00\n",
      "\n",
      "Epoch 00020: val_acc did not improve from 0.00000\n",
      "Epoch 21/1000\n",
      "44/44 [==============================] - 0s 1ms/step - loss: 5.0722 - acc: 0.0682 - val_loss: 6.9078 - val_acc: 0.0000e+00\n",
      "\n",
      "Epoch 00021: val_acc did not improve from 0.00000\n",
      "Epoch 00021: early stopping\n"
     ]
    },
    {
     "data": {
      "text/plain": [
       "<keras.callbacks.History at 0x7f37a83aa470>"
      ]
     },
     "execution_count": 151,
     "metadata": {
      "tags": []
     },
     "output_type": "execute_result"
    }
   ],
   "source": [
    "# Save the model according to the conditions  \n",
    "checkpoint = ModelCheckpoint(\"vgg16_1.h5\", monitor='val_acc', verbose=1, save_best_only=True, save_weights_only=False, mode='auto', period=1)\n",
    "early = EarlyStopping(monitor='val_acc', min_delta=0, patience=20, verbose=1, mode='auto')\n",
    "\n",
    "'''\n",
    "# Train the model \n",
    "model_final.fit_generator(\n",
    "train_generator,\n",
    "samples_per_epoch = nb_train_samples,\n",
    "epochs = epochs,\n",
    "validation_data = validation_generator,\n",
    "nb_val_samples = nb_validation_samples,\n",
    "callbacks = [checkpoint, early])\n",
    "'''\n",
    "\n",
    "model_final.fit(train_input,train_output,batch_size=10, epochs=1000,validation_data=(dev_input,dev_output),callbacks = [checkpoint, early])\n"
   ]
  },
  {
   "cell_type": "code",
   "execution_count": 152,
   "metadata": {
    "colab": {
     "base_uri": "https://localhost:8080/",
     "height": 51
    },
    "colab_type": "code",
    "id": "k-46rAoW0O_f",
    "outputId": "c8b4620a-0a27-40f1-8715-d40e622cb5d6"
   },
   "outputs": [
    {
     "name": "stdout",
     "output_type": "stream",
     "text": [
      "\r",
      "6/6 [==============================] - 0s 2ms/step\n",
      "[INFO] Loss:9.21034049987793   Accuracy:0.0\n"
     ]
    }
   ],
   "source": [
    "score=model_final.evaluate(test_input,test_output)\n",
    "#print(score)\n",
    "print(\"[INFO] Loss:{0}   Accuracy:{1}\".format(score[0],score[1]))\n"
   ]
  },
  {
   "cell_type": "code",
   "execution_count": 55,
   "metadata": {
    "colab": {
     "base_uri": "https://localhost:8080/",
     "height": 71
    },
    "colab_type": "code",
    "id": "BeUtW6ItQEKK",
    "outputId": "ed1cd10b-a38e-49b0-f1ca-74bfcde5a493"
   },
   "outputs": [
    {
     "data": {
      "text/plain": [
       "{'Vishnu': 0,\n",
       " 'Shreyas': 1,\n",
       " 'Das': 2,\n",
       " 'Nikhil': 3,\n",
       " 'Vandana': 4,\n",
       " 'Mummy': 5,\n",
       " 'Ravi': 6,\n",
       " 'Faisal': 7,\n",
       " 'Himanshu': 8,\n",
       " 'vasu': 9,\n",
       " 'Avinash': 10,\n",
       " 'Inder': 11,\n",
       " 'Surya': 12,\n",
       " 'Joshi': 13}"
      ]
     },
     "execution_count": 55,
     "metadata": {},
     "output_type": "execute_result"
    }
   ],
   "source": [
    "categorical_mapping"
   ]
  },
  {
   "cell_type": "code",
   "execution_count": 154,
   "metadata": {
    "colab": {
     "base_uri": "https://localhost:8080/",
     "height": 119
    },
    "colab_type": "code",
    "id": "YxomIoTu0O_l",
    "outputId": "38785c43-ca93-489c-8287-cabc9e68f741"
   },
   "outputs": [
    {
     "name": "stdout",
     "output_type": "stream",
     "text": [
      "[[0. 0. 1. 1. 0. 1. 1. 1. 0. 1. 1. 1. 1. 1.]\n",
      " [0. 0. 1. 1. 0. 1. 1. 1. 0. 1. 1. 1. 1. 1.]\n",
      " [0. 0. 1. 1. 0. 1. 1. 1. 0. 1. 1. 1. 1. 1.]\n",
      " [0. 0. 1. 1. 0. 1. 1. 1. 0. 1. 1. 1. 1. 1.]\n",
      " [0. 0. 1. 1. 0. 1. 1. 1. 0. 1. 1. 1. 1. 1.]\n",
      " [0. 0. 1. 1. 0. 1. 1. 1. 0. 1. 1. 1. 1. 1.]]\n"
     ]
    }
   ],
   "source": [
    "test_predictions=model_final.predict(test_input)\n",
    "print(test_predictions)\n"
   ]
  },
  {
   "cell_type": "code",
   "execution_count": 0,
   "metadata": {
    "colab": {
     "base_uri": "https://localhost:8080/",
     "height": 231
    },
    "colab_type": "code",
    "id": "UZvsENXc0O_r",
    "outputId": "a0da29db-e348-4590-8e63-73d1b5392349"
   },
   "outputs": [
    {
     "ename": "AttributeError",
     "evalue": "ignored",
     "output_type": "error",
     "traceback": [
      "\u001b[0;31m---------------------------------------------------------------------------\u001b[0m",
      "\u001b[0;31mAttributeError\u001b[0m                            Traceback (most recent call last)",
      "\u001b[0;32m<ipython-input-25-9e39a8df6cff>\u001b[0m in \u001b[0;36m<module>\u001b[0;34m()\u001b[0m\n\u001b[1;32m      1\u001b[0m \u001b[0moneHot2Name\u001b[0m\u001b[0;34m=\u001b[0m\u001b[0;34m{\u001b[0m\u001b[0;34m}\u001b[0m\u001b[0;34m\u001b[0m\u001b[0;34m\u001b[0m\u001b[0m\n\u001b[1;32m      2\u001b[0m \u001b[0;34m\u001b[0m\u001b[0m\n\u001b[0;32m----> 3\u001b[0;31m \u001b[0;32mfor\u001b[0m \u001b[0mi\u001b[0m \u001b[0;32min\u001b[0m \u001b[0mcategorical_mapping\u001b[0m\u001b[0;34m.\u001b[0m\u001b[0mkeys\u001b[0m\u001b[0;34m(\u001b[0m\u001b[0;34m)\u001b[0m\u001b[0;34m:\u001b[0m\u001b[0;34m\u001b[0m\u001b[0;34m\u001b[0m\u001b[0m\n\u001b[0m\u001b[1;32m      4\u001b[0m     \u001b[0moneHot2Name\u001b[0m\u001b[0;34m[\u001b[0m\u001b[0mcategorical_mapping\u001b[0m\u001b[0;34m[\u001b[0m\u001b[0mi\u001b[0m\u001b[0;34m]\u001b[0m\u001b[0;34m]\u001b[0m\u001b[0;34m=\u001b[0m\u001b[0mi\u001b[0m\u001b[0;34m\u001b[0m\u001b[0;34m\u001b[0m\u001b[0m\n\u001b[1;32m      5\u001b[0m \u001b[0moneHot2Name\u001b[0m\u001b[0;34m\u001b[0m\u001b[0;34m\u001b[0m\u001b[0m\n",
      "\u001b[0;31mAttributeError\u001b[0m: 'numpy.ndarray' object has no attribute 'keys'"
     ]
    }
   ],
   "source": []
  },
  {
   "cell_type": "code",
   "execution_count": 0,
   "metadata": {
    "colab": {},
    "colab_type": "code",
    "id": "YaEOV12m0O_w"
   },
   "outputs": [],
   "source": [
    "c=0\n",
    "for i in test_predictions:\n",
    "    cv2.imshow(str(oneHot2Name[np.argmax(i)])+str(c)+'.jpg',test_input[c])\n",
    "    cv2.imwrite('output_'+str(oneHot2Name[np.argmax(i)])+str(c)+'.jpg',test_input[c])\n",
    "    c+=1\n",
    "    \n",
    "cv2.waitKey(0)\n",
    "cv2.destroyAllWindows()"
   ]
  },
  {
   "cell_type": "code",
   "execution_count": 0,
   "metadata": {
    "colab": {},
    "colab_type": "code",
    "id": "3a-kh6wX0O_1"
   },
   "outputs": [],
   "source": []
  },
  {
   "cell_type": "code",
   "execution_count": 0,
   "metadata": {
    "colab": {},
    "colab_type": "code",
    "id": "5byV4Mi10O_4",
    "outputId": "e6f09ef4-29f4-4377-833b-895eccd705e0"
   },
   "outputs": [
    {
     "data": {
      "text/plain": [
       "0.07142857142857142"
      ]
     },
     "execution_count": 162,
     "metadata": {
      "tags": []
     },
     "output_type": "execute_result"
    }
   ],
   "source": [
    "1/14"
   ]
  },
  {
   "cell_type": "code",
   "execution_count": 0,
   "metadata": {
    "colab": {},
    "colab_type": "code",
    "id": "PfC-kFr90O__"
   },
   "outputs": [],
   "source": []
  }
 ],
 "metadata": {
  "accelerator": "GPU",
  "colab": {
   "collapsed_sections": [],
   "name": "FaceRecognition.ipynb",
   "provenance": [],
   "version": "0.3.2"
  },
  "kernelspec": {
   "display_name": "Python 3",
   "language": "python",
   "name": "python3"
  },
  "language_info": {
   "codemirror_mode": {
    "name": "ipython",
    "version": 3
   },
   "file_extension": ".py",
   "mimetype": "text/x-python",
   "name": "python",
   "nbconvert_exporter": "python",
   "pygments_lexer": "ipython3",
   "version": "3.6.7"
  },
  "varInspector": {
   "cols": {
    "lenName": 16,
    "lenType": 16,
    "lenVar": 40
   },
   "kernels_config": {
    "python": {
     "delete_cmd_postfix": "",
     "delete_cmd_prefix": "del ",
     "library": "var_list.py",
     "varRefreshCmd": "print(var_dic_list())"
    },
    "r": {
     "delete_cmd_postfix": ") ",
     "delete_cmd_prefix": "rm(",
     "library": "var_list.r",
     "varRefreshCmd": "cat(var_dic_list()) "
    }
   },
   "types_to_exclude": [
    "module",
    "function",
    "builtin_function_or_method",
    "instance",
    "_Feature"
   ],
   "window_display": false
  }
 },
 "nbformat": 4,
 "nbformat_minor": 1
}
