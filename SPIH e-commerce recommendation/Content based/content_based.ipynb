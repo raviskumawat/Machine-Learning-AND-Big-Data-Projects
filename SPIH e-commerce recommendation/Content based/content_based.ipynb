{
 "cells": [
  {
   "cell_type": "code",
   "execution_count": 1,
   "metadata": {
    "collapsed": true
   },
   "outputs": [],
   "source": [
    "from content_one_item import get_recommendations\n",
    "from popular_15 import show_popular_15\n",
    "import pandas as pd"
   ]
  },
  {
   "cell_type": "code",
   "execution_count": 3,
   "metadata": {},
   "outputs": [
    {
     "name": "stdout",
     "output_type": "stream",
     "text": [
      "Popular top 15 items:\n",
      "\n",
      "printing the top 15 item details....\n",
      "\n",
      "\n",
      "\n",
      "7179    NKCEFFFPSG28KBZR\n",
      "8312    PCSE6SJGCFMBG5PU\n",
      "4121    PACE66XRMSZZGZ3C\n",
      "617     PLWE6S4AWUC7YVED\n",
      "7121    NKCE9AZMHCFQHHPX\n",
      "2579    BRAECYGGHKKZD95P\n",
      "5156    NKCEAPCYFTHYVARD\n",
      "765     TOPEBKYKJZCNRNNJ\n",
      "6891    RTRDNGVMW9BGYHPH\n",
      "7424    CAGE9ABAHPZ5QTWD\n",
      "2538    BRAE7KQVU8Z2TVVS\n",
      "630     SWTEDVZZ92PX48ZY\n",
      "4243    NKCE69P8DBYVCSBY\n",
      "425     RNGEFP2XSXGXBTPX\n",
      "4255    NKCDWBPZEBRJRYH5\n",
      "Name: pid, dtype: object\n",
      "\n",
      "\n",
      "Showing content based.........\n",
      "\n",
      "\n",
      "3      SRTEH2F6HUZMQ6SJ\n",
      "9      SRTEH2FVUHAAVH9X\n",
      "6      SRTEH2FVVKRBAXHB\n",
      "13     SRTEH2FGBDJGX8FW\n",
      "15     SRTEH2FECMGNZJXJ\n",
      "21     SRTEH2FD3ANFFMHP\n",
      "978    SRTEGWKKZTUGHFZ6\n",
      "936    SRTEGWKKP9H88DQY\n",
      "939    SRTEGWKMPXHHN4MF\n",
      "979    SRTEGWKJNWGAJHQR\n",
      "965    SRTEGWKGYKXZWG2S\n",
      "963    SRTEGWKG97QKQTFZ\n",
      "945    SRTEGWKKQABUMGFA\n",
      "975    SRTEGWKKRXZ5FEKN\n",
      "941    SRTEGWKHYZ7FTDBG\n",
      "980    SRTEGWKHXHCF2TME\n",
      "966    SRTEGWKMWDED9GFW\n",
      "935    SRTEGWKKZNUYX7HW\n",
      "948    SRTEGWKJHSWWTCYG\n",
      "967    SRTEGWKJQDFFN5E5\n",
      "Name: pid, dtype: object\n"
     ]
    }
   ],
   "source": [
    "print(\"Popular top 15 items:\\n\")\n",
    "print(show_popular_15())\n",
    "\n",
    "print(\"\\n\\nShowing content based.........\\n\\n\")\n",
    "print(get_recommendations('SRTEH2FF9KEDEFGF'))\n"
   ]
  },
  {
   "cell_type": "code",
   "execution_count": 28,
   "metadata": {},
   "outputs": [
    {
     "data": {
      "text/html": [
       "<div>\n",
       "<style>\n",
       "    .dataframe thead tr:only-child th {\n",
       "        text-align: right;\n",
       "    }\n",
       "\n",
       "    .dataframe thead th {\n",
       "        text-align: left;\n",
       "    }\n",
       "\n",
       "    .dataframe tbody tr th {\n",
       "        vertical-align: top;\n",
       "    }\n",
       "</style>\n",
       "<table border=\"1\" class=\"dataframe\">\n",
       "  <thead>\n",
       "    <tr style=\"text-align: right;\">\n",
       "      <th></th>\n",
       "      <th>user_id</th>\n",
       "      <th>user_name</th>\n",
       "      <th>items_bought</th>\n",
       "      <th>wishlist</th>\n",
       "      <th>not_interested_items</th>\n",
       "      <th>items_reviewed</th>\n",
       "      <th>items_searched</th>\n",
       "      <th>age</th>\n",
       "    </tr>\n",
       "  </thead>\n",
       "  <tbody>\n",
       "    <tr>\n",
       "      <th>0</th>\n",
       "      <td>U1</td>\n",
       "      <td>Ravi shankar kumawat</td>\n",
       "      <td>[PADEHZFHGHFQJAXV, MBPEJMV5GAY9SZX5, SHTEB5MNY...</td>\n",
       "      <td>[PTDEGYSENYHHCER9, ACCEHY86UG6B63AZ, BKPEGUJHJ...</td>\n",
       "      <td>[SNDEA42M6GZNV7M3, SNDE6KNAQN3GFRQG, SNDECCCGM...</td>\n",
       "      <td>[ACCDY6GYCSJ2UTHY, WATDZ2ZQGWW4QGNK, SGLEGBV5S...</td>\n",
       "      <td>[ACCDX8ZT97AVKURV, ACCE8FG4JHHCTJDY, WATEA2H8F...</td>\n",
       "      <td>20</td>\n",
       "    </tr>\n",
       "  </tbody>\n",
       "</table>\n",
       "</div>"
      ],
      "text/plain": [
       "  user_id             user_name  \\\n",
       "0      U1  Ravi shankar kumawat   \n",
       "\n",
       "                                        items_bought  \\\n",
       "0  [PADEHZFHGHFQJAXV, MBPEJMV5GAY9SZX5, SHTEB5MNY...   \n",
       "\n",
       "                                            wishlist  \\\n",
       "0  [PTDEGYSENYHHCER9, ACCEHY86UG6B63AZ, BKPEGUJHJ...   \n",
       "\n",
       "                                not_interested_items  \\\n",
       "0  [SNDEA42M6GZNV7M3, SNDE6KNAQN3GFRQG, SNDECCCGM...   \n",
       "\n",
       "                                      items_reviewed  \\\n",
       "0  [ACCDY6GYCSJ2UTHY, WATDZ2ZQGWW4QGNK, SGLEGBV5S...   \n",
       "\n",
       "                                      items_searched  age  \n",
       "0  [ACCDX8ZT97AVKURV, ACCE8FG4JHHCTJDY, WATEA2H8F...   20  "
      ]
     },
     "execution_count": 28,
     "metadata": {},
     "output_type": "execute_result"
    }
   ],
   "source": [
    "data=pd.read_csv('spih_users_csv.csv',converters={\"items_bought\": literal_eval,\"items_reviewed\": literal_eval,\"not_interested_items\": literal_eval,\"wishlist\": literal_eval,\"items_searched\": literal_eval})\n",
    "data.head()"
   ]
  },
  {
   "cell_type": "code",
   "execution_count": 32,
   "metadata": {},
   "outputs": [
    {
     "data": {
      "text/plain": [
       "7"
      ]
     },
     "execution_count": 32,
     "metadata": {},
     "output_type": "execute_result"
    }
   ],
   "source": [
    "bought_list=[]\n",
    "wishlist=[]\n",
    "not_interested_list=[]\n",
    "reviewed_list=[]\n",
    "search_list=[]\n",
    "from ast import literal_eval\n",
    "\n",
    "#data['items_bought']=data['items_bought'].apply(literal_eval)\n",
    "len(data['items_bought'][0])\n"
   ]
  },
  {
   "cell_type": "code",
   "execution_count": 108,
   "metadata": {},
   "outputs": [
    {
     "name": "stdout",
     "output_type": "stream",
     "text": [
      "[('TKPEHZ2Y6KFV5ZQR', 9), ('TKPEJNSQMHREJYRD', 9), ('TKTEBGCK4ZVWZEZS', 9), ('TKPEG6PZEBEYFB2M', 9), ('ACCDY6GXEZDPDUCA', 9), ('ACCDY6GWDTT9TMNY', 9), ('SHTEGYG6ZTPZHBTH', 8), ('SHTEGYHSH7MG4SVU', 8), ('ACCEGZ8AUMFBZGJ2', 7), ('ACCEGZ8GDQKDXMTT', 7), ('ACCEGZ8GRVUADQ4Y', 7), ('ACCEHY8AEDYU3W3T', 7), ('ACCEETKC9MMAFHTA', 7), ('ACCEGJ6KADZTTH3T', 7), ('ACCEGGHE7H4QBGSC', 7), ('ACCDQDYBYVQZNHCH', 7), ('ACCDQDYBQZPEEXTY', 7), ('ACCDQDYBUGDKDYJS', 7), ('ACCDQDYBPHVQ9EFC', 7), ('ACCDQDYBHJGAG4NQ', 7), ('ACCDQDYBDNZRPMSW', 7), ('ACCDQDYBZEQG6HPZ', 7), ('ACCDQDYBYCX69WHA', 7), ('ACCDQDYBNKEVMMCU', 7), ('ACCDQDYBXJ9HZF37', 7), ('ACCDQDYBMZDHCNRA', 7), ('SHTEBY72FGKPYBRU', 5), ('ACCDSY8ESXF9AUHY', 5), ('SGLEGBV6PV5AZQMH', 5), ('SGLEGBV6MF4E396Z', 5), ('SGLEGBV6FW3VWD2H', 5), ('SGLEGBV6ZNUJNJS9', 5), ('SGLEGBV56CGKHGHC', 5), ('SGLEGBV6TXYCHAVG', 5), ('SGLEGBV5ANNWWFZX', 5), ('SGLEGBV4QFHTNHE2', 5), ('SGLEGBV4DEZ9ZGB8', 5), ('SGLEGBV4XF6GBWZS', 5), ('SGLEGBV8VZ4QSREY', 5), ('SGLEGBV87JYW72HN', 5), ('SGLEGBV8BENMFZGH', 5), ('SGLEGBV7K2MGEGRB', 5), ('SGLEJXKYZEGPHSEA', 5), ('SGLEGBV7VGZM7BFR', 5), ('SGLEGBV65VHSPDC8', 5), ('SGLEGBV7HZZGTJTF', 5), ('SGLEJXKXAXRAYRKM', 5), ('SGLEGBV8VGCMH77F', 5), ('SOCEGMXG4JPEFDVC', 5), ('SHTEJVJMEYV6U4HU', 5), ('JCKEJFPDVWBKHPFY', 5), ('SOCEGHH2FWBTSGBT', 5), ('JCKEJNEZZ2RFFJS5', 5), ('SWTEFZCKAC4MABVZ', 5), ('SOCEGHM6YYCTBXHS', 5), ('SHTEJGFAUKFZSGYN', 5), ('JCKEJNH2UGZFF5QZ', 5), ('SOCEGGZ8MHX79YGA', 5), ('WSCEJTDHY9UHKP5K', 5), ('VESEHR7GYNHCJUJF', 5), ('BRFEGDQZGTHKEG3A', 5), ('JCKEJNH2AZGKWGZC', 5), ('NKCE38HBGUZ6W6G8', 4), ('SHIE7DFN8MFZKQUR', 4), ('NKCECNPWX3KHA4QG', 4), ('PACEBDFU4SN2D5SA', 4), ('PACEC89YGNYZCMC4', 4), ('PTPDVPEXZACXZW3H', 4), ('PTPDVPEXSANDVSJQ', 4), ('PTPDVPFYEKTVFEZ8', 4), ('PACE26UZFAH7U2Y4', 4), ('NKCEFZ28RPFNBRAH', 4), ('RNGE3NFSNCUBC3QM', 4), ('PTDEGXMSY3G7FKJU', 4), ('BOTEJRZF6THZAYNT', 4), ('PACEC9Y274RMYH8J', 4), ('PRCDVFAFM2FPJBMZ', 4), ('NKCE3KVSXWZPHFB9', 4), ('HJREGVMCEGGUDUE5', 4), ('SHKEGNS9TWHJAN6Q', 4), ('PTPE4JYSR95ADP6S', 4), ('SNDEGGQ6T4W8ZGKH', 4), ('ACCEGGDGP2KETAD9', 4), ('ACCEHYWDPRTRMCMS', 4), ('ACCEGG9VJJHGYPN4', 4), ('ACCEGG9UN8H6EHGA', 4), ('ACCEGG9VGRMQGHRD', 4), ('ACCEGG9V98NCXGPE', 4), ('ACCEGGAYF5HTP4RG', 4), ('ACCEGG9Z5UB2JZYH', 4), ('ACCEGGAYDMUYE7SK', 4), ('ACCEGGBTHFC95B56', 4), ('ACCEGGBSWNJB4QEF', 4), ('ACCEGG9Z4QCZJZFJ', 4), ('ACCEGG9YCGHJGSZA', 4), ('BKPEGUJHT7JGMGUQ', 4), ('BKPEGUJHZSTFPHCG', 4), ('BKPEGUJHQSJUZBVF', 4), ('BKPEGZCDVDZUMGHZ', 4), ('BKPEGZCCZ7FCKTSZ', 4), ('BKPEGZCDHQUXWAAM', 4), ('BKPEGZCC4ATUZ2TQ', 4), ('BKPEGXU97PFBDHW4', 4), ('BKPEGZC2B9WHH3U3', 4), ('BKPEGXWHXG4GZWET', 4), ('BKPEHTGBH5GGWENP', 4), ('BKPEGZCFYTJXMRGY', 4), ('BKPEHDNGPAUZZXHZ', 4), ('BKPEGXU9NZQRQGF2', 4), ('BKPEGXYWWJPETZZA', 4), ('BKPEGZCFPQUSG89G', 4), ('LTBEJGVNHVHPUZ9G', 4), ('BKPEGXYVHZBG2PUY', 4), ('BKPEGXYVWNVFFGHZ', 4), ('BKPEGXYVX4CG7UWX', 4), ('BTWEGFZHGBXPHZUH', 4), ('BTWEJQ6AKJYGHUGJ', 4), ('BTWEG6SHXTDB2A2Y', 4), ('CNDEGVK2VGHG7GHG', 4), ('HACEGPF9DZVUZBFY', 4), ('HACEJQY5FQRZZUGM', 4), ('HACEGPF9FJFJQU2R', 4), ('HACEGPF9EMXPSEJU', 4), ('HACEGPF9YTZTXPJF', 4), ('HACEGPF9FDKV3EPK', 4), ('HACEJQ7HBH4H4JF8', 4), ('CNDEGVE65UWDPCYC', 4), ('HRCEHF2CFBSKR9RD', 4), ('HACEJQ7HRGNBYCEH', 4), ('HRCEGXJPZH7KJXZD', 4), ('HACEJXFJZ5HSR8QT', 4), ('CNDEGVE6CRCDNHNV', 4), ('HRCEGVM3ENRZXEPB', 4), ('CNDEGVE6PR98MZHU', 4), ('BEOEH25NTUDGG5TT', 4), ('TKSEFH49SBFGQYZ3', 4), ('TKPEFT4AD3ZQZZHN', 4), ('TKPEH9F5BQTQAMSC', 4), ('TKPEHS7R72ZCQBGG', 4), ('TKPEGM48GGD2QKZN', 4), ('TKPEGM7QPGUZMQMD', 4), ('TKPEHZ2YKJECKGQK', 4), ('TKPEGZCWJBFYQ7DG', 4), ('TKPEGRKHT4832GFE', 4), ('TKPEGFWWV9K7PMMD', 4), ('TKPEGZBPDGKMV4Q6', 4), ('TKPEJNDEFYSRZSXF', 4), ('TKPEHGWYVVXUYCFC', 4), ('TKPEG2Z2CWU9AHXG', 4), ('TKPEG27A7Z6JWK6Y', 4), ('SUIEHFNUU3BDCGZN', 4), ('ACCDY6GYCSJ2UTHY', 4), ('ACCDX8ZU3GT4AGT3', 4), ('PADEHZFHMTEUP8YG', 3), ('PADEHZFHCNQGWNNS', 3), ('PADEHZFJGQNSEVKC', 3), ('GUAEJGQCYFSQKW2W', 3), ('BALEGF9PZWC68R3G', 3), ('SGEEG57EZYEGGNMN', 3), ('TSHEG57QP6AKHGDK', 3), ('TSHEG57GACSGRQGM', 3), ('TSHEG57TG27P9EZM', 3), ('TSHEG57SNQEHD97V', 3), ('HCSEHGV96WXQCBN9', 3), ('SGEEJJ7AV4SFEM2B', 3), ('SGEEHXRHQUQMNNVZ', 3), ('KITEGFBDSYZSVBKB', 3), ('BATEGR3ZHKPGMHXD', 3), ('NSTEHZR6RYEWU5FS', 3), ('BRFEGHPVKBFEJZ3N', 3), ('SGEEHXRHX7CVWD59', 3), ('DRPEF2XSFBAP4SUZ', 3), ('BRFECHUFKHVYUREJ', 3), ('ACCEGH6TEZ8CAXEH', 3), ('MBPEFHRT4Q8EVGNU', 3), ('MBPEEYTZMQV5SHNX', 3), ('MBPEFHRYGGHJMRYW', 3), ('ACCEGH6SHJECW8UG', 3), ('ACCE8TZFCREV9NK5', 3), ('ACCEFET7MKNAJVAH', 3), ('ACCE73VFWU9JYKEF', 3), ('ACCEA7PVQP8H27UH', 3), ('ACCEAT6AZZJ6GRSQ', 3), ('ACCDZKG4GUTXGYQZ', 3), ('ACCE8C3YU6JDREMH', 3), ('ACCEY6JYDGGESWXC', 3), ('ACCE8VP6PZDUEYGP', 3), ('SWIEH37JZCRUTUD2', 3), ('ACCE5ZCYYWU7ZX5P', 3), ('ACCE6TJTBHE6YHDJ', 3), ('ACCE8WYMVWNXBBAH', 3), ('ACCDRREFMB99QZ42', 3), ('ACCE9VGJEGJDTPHY', 3), ('SHTECYHHYPFZD2X2', 3), ('SHTEDWTVTHSU5XCU', 3), ('SHTEDWTVCEUBHNJN', 3), ('SHTE37DQJWSQ4VGH', 3), ('SHTEDZY5RMB5ZZVG', 3), ('SHTEDWTVVGDRVTNX', 3), ('SHTEAGGFBZGZMFCF', 3), ('SHTEDZXRFQJKNKAU', 3), ('SHTE9C3VMAASRH33', 3), ('SHTEJT4D7Y9NTWYZ', 3), ('SHTDCFZRMHZFFUK3', 3), ('SHTEDCZWPM7F8GAM', 3), ('SHTEDCZWH3B2G62B', 3), ('SHTE8VYUZPHMDSHU', 3), ('SHTEDFFJMHZWSYT2', 3), ('SHTEJT4DCZAKK3YW', 3), ('SHTE62WFHSE7YFHS', 3), ('CRTECN2QT4YABNGQ', 3), ('CRTECN2QSGYM2NU4', 3), ('CRTECN2QZTEAZZ5C', 3), ('CRTECN2QZ5BPGNFM', 3), ('CRTECN2QVCPVUNEA', 3), ('CRTECN2QXC7HYKPG', 3), ('CRTECN2QWVBQNTHQ', 3), ('CRTECN2QW6KGNW8U', 3), ('CRTECN2QWAXDGXMW', 3), ('CRTECN2QTCCU8MZM', 3), ('CRTECN2QYZYQPHUH', 3), ('CRTECN2QTXDSJSGE', 3), ('CRTECN2QYN3ZN75Z', 3), ('CRTECN2QXPXD8ZAU', 3), ('CRTECN2QXZFWR9H4', 3), ('CRTECN2QWVFTBZZS', 3), ('CRTECN2QWA68UMF7', 3), ('CRTECN2QWPPMVZZ9', 3), ('CRTECN2QXGUXXZUG', 3), ('CRTECN2QUQHGT6C5', 3), ('RTRD7XKFRCZH8TE4', 3), ('RTRE4EY9HHDVPVG6', 3), ('RTREFH7UWNEQDHAY', 3), ('RTRDQZMJBWHZCXZT', 3), ('RTRDHYYVXHYG93NF', 3), ('RTREFH7UGSFUT6PB', 3), ('RTREYTY2TMVNXZG4', 3), ('RTRDZTF9URF2UFPF', 3), ('RTRE3WYAU6HNKCGS', 3), ('RTRDA4U7RSHNZEGW', 3), ('RTRD6352VX7RZSWG', 3), ('RTRDA4U7UE3Z7UMB', 3), ('RTRDHYYVPHSGSDGA', 3), ('RTRDRMGYGV73A3XJ', 3), ('RTRECBJ4RMARF56B', 3), ('RTRDRDPR9JHCSBGH', 3), ('RTRD38494HWZVMAK', 3), ('RTRD7XKFDBPBR6CV', 3), ('RTRDZK8XRESZY5YT', 3), ('RTRDQZMJHRSR6CA9', 3), ('ACCEJWHTY2HVMG7Z', 3), ('ACCEGNVADAYPFTER', 3), ('ACCEGNVAB72PPVYN', 3), ('ACCEGZ5PGHCDZTNY', 3), ('ACCEGNYUMARHZWGW', 3), ('ACCE8XZMFNFCDPXE', 3), ('ACCEGPC9DA8TGRYY', 3), ('ACCEGPBYNU6BPFNR', 3), ('ACCEHZF95ZRCKACD', 3), ('ACCEGPCZHTGQCH4S', 3), ('ACCEHZF9EDRGHXCF', 3), ('ACCEGGPTXXYWRBSP', 3), ('BZREDTP23ENK9YNH', 3), ('ACCDX8ZUGJDYYJ43', 3), ('ACCDXFFD7H52GCDD', 2), ('ACCDY6GSECHXANDS', 2), ('ACCDY6GTHNEAPHM3', 2), ('SHTE3MSD8GGSZ8PT', 2), ('SHTEBS8Z8PAHNZZV', 2), ('SHTEBS8Z97ECWYXJ', 2), ('SHTEBS8ZFZGZXDPH', 2), ('SHTEBS8ZE8JYZEZE', 2), ('SHTEBS8ZRBGG6ZXT', 2), ('SHTEBG9CGJ5N9RGZ', 2), ('SHTEBQXKHGDXDRE5', 2), ('SHTEE72RZN4TVPUY', 2), ('SHTEE72RA42KXW2S', 2), ('SHTEE72RCD7G7D2N', 2), ('SHTEDVZRHNGYYMES', 2), ('SHTEA8GNUNWHQYDD', 2), ('SHTEJR4G5K3TAMCM', 2), ('SHTECY56T5NFH5KP', 2), ('SHTEGXV5HJXKTCHQ', 2), ('SHTEGXV5GB5HU5GG', 2), ('SHTEGXV575W5CGTU', 2), ('SHTEGXV5ATXWFBGE', 2), ('ACCDY6HY6THFGGV8', 1), ('ACCDSY8EYJ6PTNGT', 1), ('ACCDX8ZUEWUKFHHQ', 1), ('ACCDX8ZVV2RCNYCY', 1), ('ACCDX8ZWQKAHKXCM', 1), ('ACCE558KZHEPZYMG', -4), ('ACCEF3Z2XMEEJVWE', -4), ('ACCE558KTS5PCGMF', -4), ('ACCDSY8ERUYRYSUA', -4), ('ACCDSY8EAED5TGZY', -4), ('ACCDSY8EHHF5TSKC', -4), ('ACCDSY8E3XGY8UFZ', -4), ('ACCDSY8EYXYYYYVK', -4), ('ACCDSY8EMKXZM8EW', -4), ('ACCDXFPYHYPFXGCY', -4), ('ACCDXFPYCSFXCJU4', -4), ('SBEEH3QGU7MFYJFY', -6), ('SHOEH4GRSUBJGZXE', -6), ('SRTEH2F6HUZMQ6SJ', -6), ('PSOEH3ZYDMSYARJ5', -6), ('PWTEB7H2E4KCYUE3', -6), ('SRTEH2FVVKRBAXHB', -6), ('SBEEH3QGYGHFUEXN', -6), ('SHOEH3DZBFR88SCK', -6), ('SRTEH2FVUHAAVH9X', -6), ('SHOEH4KM2W3Z6EH5', -6), ('SWIEHF3EF5PZAZUY', -6), ('PSOEH3ZYYFETGCCD', -6), ('SRTEH2FGBDJGX8FW', -6), ('BOTEGYTZ2T6WUJMM', -6), ('SRTEH2FECMGNZJXJ', -6), ('SBEEH3QGAYAEPRCG', -6), ('SHOEH4FSHEDEMVTM', -6), ('SWIEHF3H7WG6VGMR', -6), ('SBEEH3QGWRGG3J6Q', -6), ('PSOEH3ZXRTZJUVXM', -6), ('ACCE558K8QZGMAHM', -6), ('ACCDPDJVGNGNX7QE', -6), ('ACCDXFPFH66QGGR2', -6)]\n"
     ]
    }
   ],
   "source": [
    "dictmap={}\n",
    "#print(data['items_bought'][0][i])\n",
    "def initialize_dict(d):\n",
    "    for i in range(0,len(d)):\n",
    "        x=get_recommendations(d[i])\n",
    "        #dictmap.fromkeys(x)\n",
    "        for i in x:\n",
    "            dictmap[i]=0\n",
    "            \n",
    "initialize_dict(data['items_bought'][0])\n",
    "initialize_dict(data['wishlist'][0])\n",
    "initialize_dict(data['not_interested_items'][0])\n",
    "initialize_dict(data['items_reviewed'][0])\n",
    "initialize_dict(data['items_searched'][0])\n",
    "\n",
    "def adjust_weight(d,z):\n",
    "    for i in range(0,len(d)):\n",
    "        x=get_recommendations(d[i])\n",
    "        #dictmap.fromkeys(x)\n",
    "        for i in x:\n",
    "            dictmap[i]=dictmap[i]+z\n",
    "            \n",
    "adjust_weight(data['items_bought'][0],3)        \n",
    "adjust_weight(data['wishlist'][0],4)        \n",
    "adjust_weight(data['not_interested_items'][0],-6)        \n",
    "adjust_weight(data['items_reviewed'][0],5)        \n",
    "adjust_weight(data['items_searched'][0],2)      \n",
    "\n",
    "#sorted(dictmap.values(),reverse=True)\n",
    "from operator import itemgetter\n",
    "dictmap=sorted(dictmap.items(), key=itemgetter(1),reverse=True)\n",
    "print(dictmap)  "
   ]
  },
  {
   "cell_type": "code",
   "execution_count": 109,
   "metadata": {},
   "outputs": [
    {
     "name": "stdout",
     "output_type": "stream",
     "text": [
      "Top 15 recommendations for the user are.......\n",
      "\n",
      "\n",
      "\n",
      "['TKPEHZ2Y6KFV5ZQR', 'TKPEJNSQMHREJYRD', 'TKTEBGCK4ZVWZEZS', 'TKPEG6PZEBEYFB2M', 'ACCDY6GXEZDPDUCA', 'ACCDY6GWDTT9TMNY', 'SHTEGYG6ZTPZHBTH', 'SHTEGYHSH7MG4SVU', 'ACCEGZ8AUMFBZGJ2', 'ACCEGZ8GDQKDXMTT', 'ACCEGZ8GRVUADQ4Y', 'ACCEHY8AEDYU3W3T', 'ACCEETKC9MMAFHTA', 'ACCEGJ6KADZTTH3T', 'ACCEGGHE7H4QBGSC', 'ACCDQDYBYVQZNHCH']\n"
     ]
    }
   ],
   "source": [
    "print(\"Top 15 recommendations for the user are.......\\n\\n\\n\")\n",
    "top15=[]\n",
    "for i in range(0,16):\n",
    "    top15.append(dictmap[i][0])\n",
    "print(top15)"
   ]
  },
  {
   "cell_type": "code",
   "execution_count": 110,
   "metadata": {},
   "outputs": [
    {
     "name": "stdout",
     "output_type": "stream",
     "text": [
      "1162                         Adidas Solid Men's Track Top\n",
      "1419                       TAMBAS Solid Men's Track Pants\n",
      "1425                    GREENWICH Solid Men's Track Pants\n",
      "3210    Bond Beatz Zipper With Excellent Sound Wired H...\n",
      "7603                  o.h.m Solid Men's Black Track Pants\n",
      "7899    LIFE LIKE VM-42 3D SOUND WIRED HEADPHONES Head...\n",
      "7930    LIFE LIKE S450 3.0 WITH MIC GOOD SOUND QUALITY...\n",
      "7955    LIFE LIKE STN-840 4.1 WITH MIC Wireless Blueto...\n",
      "8007    LIFE LIKE OTP-200 WITH MIC Wireless Bluetooth ...\n",
      "8458    Lapguard Dell U661H Compatible Black 6 Cell La...\n",
      "8537    Lapguard HP Pavilion dv6159EA Compatible Black...\n",
      "8601    Lapguard HP Pavilion dv5-1008ax 6 Cell Laptop ...\n",
      "9185       CHKOKKO Earbud Skin Wireless Bluetooth Headset\n",
      "9199                         Qline Superman Wired Headset\n",
      "9932                   Stylenara Men's Solid Casual Shirt\n",
      "9935                   Stylenara Men's Solid Casual Shirt\n",
      "Name: product_name, dtype: object\n"
     ]
    }
   ],
   "source": [
    "metadata=pd.read_csv('spih_dataset_csv.csv')\n",
    "indx = pd.Series(metadata.index, index=metadata['pid']).drop_duplicates()\n",
    "e=metadata.loc[metadata['pid'].isin(top15)]\n",
    "print(e['product_name'])\n",
    "#for i in top15:\n",
    " #   print(metadata['product_name'indx[i])"
   ]
  },
  {
   "cell_type": "code",
   "execution_count": null,
   "metadata": {
    "collapsed": true
   },
   "outputs": [],
   "source": []
  }
 ],
 "metadata": {
  "kernelspec": {
   "display_name": "Python 3",
   "language": "python",
   "name": "python3"
  },
  "language_info": {
   "codemirror_mode": {
    "name": "ipython",
    "version": 3
   },
   "file_extension": ".py",
   "mimetype": "text/x-python",
   "name": "python",
   "nbconvert_exporter": "python",
   "pygments_lexer": "ipython3",
   "version": "3.6.2rc1"
  }
 },
 "nbformat": 4,
 "nbformat_minor": 2
}
