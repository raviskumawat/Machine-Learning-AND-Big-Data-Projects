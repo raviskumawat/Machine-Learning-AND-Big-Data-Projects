{
 "cells": [
  {
   "cell_type": "code",
   "execution_count": 7,
   "metadata": {
    "collapsed": true
   },
   "outputs": [],
   "source": [
    "import numpy as np\n",
    "import pandas as pd\n",
    "import math\n"
   ]
  },
  {
   "cell_type": "code",
   "execution_count": 14,
   "metadata": {
    "collapsed": true
   },
   "outputs": [],
   "source": [
    "def show_popular_15():\n",
    "    metadata=pd.read_csv('spih_dataset_csv.csv')\n",
    "    c=metadata['average_review_rating']\n",
    "    c=[float(x) for x in c]\n",
    "    c_tmp=[value for value in c if not math.isnan(value)]\n",
    "    c_tmp=sum(c_tmp)/len(c_tmp)\n",
    "    c=c_tmp\n",
    "    m = metadata['number_of_reviews']\n",
    "    m=[int(x) for x in m]\n",
    "    m=np.percentile(m,90)\n",
    "    q_items = metadata.copy().loc[metadata['number_of_reviews'] >= m]\n",
    "    # Function that computes the weighted rating of each movie\n",
    "    def weighted_rating(x, m=m, C=c):\n",
    "        v = x['number_of_reviews']\n",
    "        R = x['average_review_rating']\n",
    "        # Calculation based on the IMDB formula\n",
    "        return (v/(v+m) * R) + (m/(m+v) * C)\n",
    "    q_items['score'] = q_items.apply(weighted_rating, axis=1)\n",
    "    q_items = q_items.sort_values('score', ascending=False)\n",
    "    print(\"printing the top 15 item details....\\n\\n\\n\")\n",
    "    print(q_items[['pid','product_name','number_of_reviews','average_review_rating','score']].head(15))\n",
    "    return q_items['pid'].head(15)\n",
    "    "
   ]
  },
  {
   "cell_type": "code",
   "execution_count": 15,
   "metadata": {},
   "outputs": [
    {
     "name": "stdout",
     "output_type": "stream",
     "text": [
      "printing the top 15 item details....\n",
      "\n",
      "\n",
      "\n",
      "                   pid                                       product_name  \\\n",
      "7179  NKCEFFFPSG28KBZR                                Harp Metal Necklace   \n",
      "8312  PCSE6SJGCFMBG5PU            Easy Gardening Home Plant Container Set   \n",
      "4121  PACE66XRMSZZGZ3C                         Nourish Wheel Pizza Cutter   \n",
      "617   PLWE6S4AWUC7YVED                      JDX Plain Bed/Sleeping Pillow   \n",
      "7121  NKCE9AZMHCFQHHPX                                 ETTI Wood Necklace   \n",
      "2579  BRAECYGGHKKZD95P  Secretlayer Black Softy Women's Full Coverage Bra   \n",
      "5156  NKCEAPCYFTHYVARD  Aaradhi Divya Mantra Black Tourmaline Gemstone...   \n",
      "765   TOPEBKYKJZCNRNNJ  My Little Joy Casual Short Sleeve Printed Girl...   \n",
      "6891  RTRDNGVMW9BGYHPH                                        Tenda W268R   \n",
      "7424  CAGE9ABAHPZ5QTWD  Park Avenue After 8 EDP , Cool Blue Deodorant ...   \n",
      "2538  BRAE7KQVU8Z2TVVS           Ploomz Fashion Women's Full Coverage Bra   \n",
      "630   SWTEDVZZ92PX48ZY  Addyvero Geometric Print Round Neck Casual Boy...   \n",
      "4243  NKCE69P8DBYVCSBY        Adorelabel Roseate Gold Long Alloy Necklace   \n",
      "425   RNGEFP2XSXGXBTPX  Clara Certified Katela 3.9 cts or 4.25 ratti S...   \n",
      "4255  NKCDWBPZEBRJRYH5        Voylla Rhodium Plated Metal, Alloy Necklace   \n",
      "\n",
      "      number_of_reviews  average_review_rating     score  \n",
      "7179                 81                    5.0  4.944233  \n",
      "8312                200                    4.9  4.883211  \n",
      "4121                134                    4.9  4.875969  \n",
      "617                 129                    4.9  4.875157  \n",
      "7121                 25                    5.0  4.873257  \n",
      "2579                109                    4.9  4.871276  \n",
      "5156                104                    4.9  4.870108  \n",
      "765                 102                    4.9  4.869614  \n",
      "6891                 23                    5.0  4.867222  \n",
      "7424                 91                    4.9  4.866575  \n",
      "2538                 88                    4.9  4.865638  \n",
      "630                  86                    4.9  4.864984  \n",
      "4243                 22                    5.0  4.863983  \n",
      "425                  82                    4.9  4.863597  \n",
      "4255                 80                    4.9  4.862862  \n"
     ]
    },
    {
     "data": {
      "text/plain": [
       "7179    NKCEFFFPSG28KBZR\n",
       "8312    PCSE6SJGCFMBG5PU\n",
       "4121    PACE66XRMSZZGZ3C\n",
       "617     PLWE6S4AWUC7YVED\n",
       "7121    NKCE9AZMHCFQHHPX\n",
       "2579    BRAECYGGHKKZD95P\n",
       "5156    NKCEAPCYFTHYVARD\n",
       "765     TOPEBKYKJZCNRNNJ\n",
       "6891    RTRDNGVMW9BGYHPH\n",
       "7424    CAGE9ABAHPZ5QTWD\n",
       "2538    BRAE7KQVU8Z2TVVS\n",
       "630     SWTEDVZZ92PX48ZY\n",
       "4243    NKCE69P8DBYVCSBY\n",
       "425     RNGEFP2XSXGXBTPX\n",
       "4255    NKCDWBPZEBRJRYH5\n",
       "Name: pid, dtype: object"
      ]
     },
     "execution_count": 15,
     "metadata": {},
     "output_type": "execute_result"
    }
   ],
   "source": [
    "show_popular_15()"
   ]
  },
  {
   "cell_type": "code",
   "execution_count": null,
   "metadata": {},
   "outputs": [],
   "source": []
  },
  {
   "cell_type": "code",
   "execution_count": null,
   "metadata": {},
   "outputs": [],
   "source": [
    "\n"
   ]
  },
  {
   "cell_type": "code",
   "execution_count": null,
   "metadata": {},
   "outputs": [],
   "source": []
  },
  {
   "cell_type": "code",
   "execution_count": null,
   "metadata": {
    "collapsed": true
   },
   "outputs": [],
   "source": []
  },
  {
   "cell_type": "code",
   "execution_count": null,
   "metadata": {},
   "outputs": [],
   "source": []
  },
  {
   "cell_type": "code",
   "execution_count": null,
   "metadata": {
    "collapsed": true
   },
   "outputs": [],
   "source": []
  }
 ],
 "metadata": {
  "kernelspec": {
   "display_name": "Python 3",
   "language": "python",
   "name": "python3"
  },
  "language_info": {
   "codemirror_mode": {
    "name": "ipython",
    "version": 3
   },
   "file_extension": ".py",
   "mimetype": "text/x-python",
   "name": "python",
   "nbconvert_exporter": "python",
   "pygments_lexer": "ipython3",
   "version": "3.6.2rc1"
  }
 },
 "nbformat": 4,
 "nbformat_minor": 2
}
