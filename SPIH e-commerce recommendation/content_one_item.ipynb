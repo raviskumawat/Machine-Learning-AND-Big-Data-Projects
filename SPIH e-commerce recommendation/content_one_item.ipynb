{
 "cells": [
  {
   "cell_type": "code",
   "execution_count": 1,
   "metadata": {
    "collapsed": true
   },
   "outputs": [],
   "source": [
    "import numpy as np\n",
    "import pandas as pd\n",
    "import math\n",
    "from sklearn.feature_extraction.text import TfidfVectorizer\n",
    "from sklearn.metrics.pairwise import linear_kernel"
   ]
  },
  {
   "cell_type": "code",
   "execution_count": 2,
   "metadata": {
    "scrolled": true
   },
   "outputs": [
    {
     "data": {
      "text/html": [
       "<div>\n",
       "<style>\n",
       "    .dataframe thead tr:only-child th {\n",
       "        text-align: right;\n",
       "    }\n",
       "\n",
       "    .dataframe thead th {\n",
       "        text-align: left;\n",
       "    }\n",
       "\n",
       "    .dataframe tbody tr th {\n",
       "        vertical-align: top;\n",
       "    }\n",
       "</style>\n",
       "<table border=\"1\" class=\"dataframe\">\n",
       "  <thead>\n",
       "    <tr style=\"text-align: right;\">\n",
       "      <th></th>\n",
       "      <th>pid</th>\n",
       "      <th>product_name</th>\n",
       "      <th>number_of_reviews</th>\n",
       "      <th>average_review_rating</th>\n",
       "      <th>retail_price</th>\n",
       "      <th>discounted_price</th>\n",
       "      <th>discount_percent</th>\n",
       "      <th>brand</th>\n",
       "      <th>description</th>\n",
       "      <th>product_category_tree</th>\n",
       "      <th>image</th>\n",
       "      <th>lifetime</th>\n",
       "    </tr>\n",
       "  </thead>\n",
       "  <tbody>\n",
       "    <tr>\n",
       "      <th>0</th>\n",
       "      <td>SRTEH2FF9KEDEFGF</td>\n",
       "      <td>Alisha Solid Women's Cycling Shorts</td>\n",
       "      <td>15</td>\n",
       "      <td>4.9</td>\n",
       "      <td>999.0</td>\n",
       "      <td>379.0</td>\n",
       "      <td>NaN</td>\n",
       "      <td>Alisha</td>\n",
       "      <td>Key Features of Alisha Solid Women's Cycling S...</td>\n",
       "      <td>[Clothing &gt;&gt; Women's Clothing &gt;&gt; Lingerie, Sle...</td>\n",
       "      <td>[http://img5a.flixcart.com/image/short/u/4/a/a...</td>\n",
       "      <td>20.0</td>\n",
       "    </tr>\n",
       "    <tr>\n",
       "      <th>1</th>\n",
       "      <td>SBEEH3QGU7MFYJFY</td>\n",
       "      <td>FabHomeDecor Fabric Double Sofa Bed</td>\n",
       "      <td>2</td>\n",
       "      <td>4.5</td>\n",
       "      <td>32157.0</td>\n",
       "      <td>22646.0</td>\n",
       "      <td>NaN</td>\n",
       "      <td>FabHomeDecor</td>\n",
       "      <td>FabHomeDecor Fabric Double Sofa Bed (Finish Co...</td>\n",
       "      <td>[Furniture &gt;&gt; Living Room Furniture &gt;&gt; Sofa Be...</td>\n",
       "      <td>[http://img6a.flixcart.com/image/sofa-bed/j/f/...</td>\n",
       "      <td>NaN</td>\n",
       "    </tr>\n",
       "    <tr>\n",
       "      <th>2</th>\n",
       "      <td>SHOEH4GRSUBJGZXE</td>\n",
       "      <td>AW Bellies</td>\n",
       "      <td>17</td>\n",
       "      <td>3.9</td>\n",
       "      <td>999.0</td>\n",
       "      <td>499.0</td>\n",
       "      <td>NaN</td>\n",
       "      <td>AW</td>\n",
       "      <td>Key Features of AW Bellies Sandals Wedges Heel...</td>\n",
       "      <td>[Footwear &gt;&gt; Women's Footwear &gt;&gt; Ballerinas &gt;&gt;...</td>\n",
       "      <td>[http://img5a.flixcart.com/image/shoe/7/z/z/re...</td>\n",
       "      <td>NaN</td>\n",
       "    </tr>\n",
       "    <tr>\n",
       "      <th>3</th>\n",
       "      <td>SRTEH2F6HUZMQ6SJ</td>\n",
       "      <td>Alisha Solid Women's Cycling Shorts</td>\n",
       "      <td>1</td>\n",
       "      <td>5.0</td>\n",
       "      <td>699.0</td>\n",
       "      <td>267.0</td>\n",
       "      <td>NaN</td>\n",
       "      <td>Alisha</td>\n",
       "      <td>Key Features of Alisha Solid Women's Cycling S...</td>\n",
       "      <td>[Clothing &gt;&gt; Women's Clothing &gt;&gt; Lingerie, Sle...</td>\n",
       "      <td>[http://img5a.flixcart.com/image/short/6/2/h/a...</td>\n",
       "      <td>NaN</td>\n",
       "    </tr>\n",
       "    <tr>\n",
       "      <th>4</th>\n",
       "      <td>PSOEH3ZYDMSYARJ5</td>\n",
       "      <td>Sicons All Purpose Arnica Dog Shampoo</td>\n",
       "      <td>3</td>\n",
       "      <td>4.7</td>\n",
       "      <td>220.0</td>\n",
       "      <td>210.0</td>\n",
       "      <td>NaN</td>\n",
       "      <td>Sicons</td>\n",
       "      <td>Specifications of Sicons All Purpose Arnica Do...</td>\n",
       "      <td>[Pet Supplies &gt;&gt; Grooming &gt;&gt; Skin &amp; Coat Care ...</td>\n",
       "      <td>[http://img5a.flixcart.com/image/pet-shampoo/r...</td>\n",
       "      <td>NaN</td>\n",
       "    </tr>\n",
       "  </tbody>\n",
       "</table>\n",
       "</div>"
      ],
      "text/plain": [
       "                pid                           product_name  number_of_reviews  \\\n",
       "0  SRTEH2FF9KEDEFGF    Alisha Solid Women's Cycling Shorts                 15   \n",
       "1  SBEEH3QGU7MFYJFY    FabHomeDecor Fabric Double Sofa Bed                  2   \n",
       "2  SHOEH4GRSUBJGZXE                             AW Bellies                 17   \n",
       "3  SRTEH2F6HUZMQ6SJ    Alisha Solid Women's Cycling Shorts                  1   \n",
       "4  PSOEH3ZYDMSYARJ5  Sicons All Purpose Arnica Dog Shampoo                  3   \n",
       "\n",
       "   average_review_rating  retail_price  discounted_price  discount_percent  \\\n",
       "0                    4.9         999.0             379.0               NaN   \n",
       "1                    4.5       32157.0           22646.0               NaN   \n",
       "2                    3.9         999.0             499.0               NaN   \n",
       "3                    5.0         699.0             267.0               NaN   \n",
       "4                    4.7         220.0             210.0               NaN   \n",
       "\n",
       "          brand                                        description  \\\n",
       "0        Alisha  Key Features of Alisha Solid Women's Cycling S...   \n",
       "1  FabHomeDecor  FabHomeDecor Fabric Double Sofa Bed (Finish Co...   \n",
       "2            AW  Key Features of AW Bellies Sandals Wedges Heel...   \n",
       "3        Alisha  Key Features of Alisha Solid Women's Cycling S...   \n",
       "4        Sicons  Specifications of Sicons All Purpose Arnica Do...   \n",
       "\n",
       "                               product_category_tree  \\\n",
       "0  [Clothing >> Women's Clothing >> Lingerie, Sle...   \n",
       "1  [Furniture >> Living Room Furniture >> Sofa Be...   \n",
       "2  [Footwear >> Women's Footwear >> Ballerinas >>...   \n",
       "3  [Clothing >> Women's Clothing >> Lingerie, Sle...   \n",
       "4  [Pet Supplies >> Grooming >> Skin & Coat Care ...   \n",
       "\n",
       "                                               image  lifetime  \n",
       "0  [http://img5a.flixcart.com/image/short/u/4/a/a...      20.0  \n",
       "1  [http://img6a.flixcart.com/image/sofa-bed/j/f/...       NaN  \n",
       "2  [http://img5a.flixcart.com/image/shoe/7/z/z/re...       NaN  \n",
       "3  [http://img5a.flixcart.com/image/short/6/2/h/a...       NaN  \n",
       "4  [http://img5a.flixcart.com/image/pet-shampoo/r...       NaN  "
      ]
     },
     "execution_count": 2,
     "metadata": {},
     "output_type": "execute_result"
    }
   ],
   "source": [
    "metadata=pd.read_csv('spih_dataset_csv.csv')\n",
    "\n",
    "metadata.describe()\n",
    "metadata.head()"
   ]
  },
  {
   "cell_type": "code",
   "execution_count": 3,
   "metadata": {},
   "outputs": [
    {
     "data": {
      "text/plain": [
       "0     Key Features of Alisha Solid Women's Cycling S...\n",
       "1     FabHomeDecor Fabric Double Sofa Bed (Finish Co...\n",
       "2     Key Features of AW Bellies Sandals Wedges Heel...\n",
       "3     Key Features of Alisha Solid Women's Cycling S...\n",
       "4     Specifications of Sicons All Purpose Arnica Do...\n",
       "5     Key Features of Eternal Gandhi Super Series Cr...\n",
       "6     Key Features of Alisha Solid Women's Cycling S...\n",
       "7     FabHomeDecor Fabric Double Sofa Bed (Finish Co...\n",
       "8     Key Features of dilli bazaaar Bellies, Corpora...\n",
       "9     Key Features of Alisha Solid Women's Cycling S...\n",
       "10    Key Features of Ladela Bellies Brand: LADELA C...\n",
       "11    Key Features of Carrel Printed Women's Fabric:...\n",
       "12    Specifications of Sicons All Purpose Tea Tree ...\n",
       "13    Key Features of Alisha Solid Women's Cycling S...\n",
       "14    Specifications of Freelance Vacuum Bottles 350...\n",
       "Name: description, dtype: object"
      ]
     },
     "execution_count": 3,
     "metadata": {},
     "output_type": "execute_result"
    }
   ],
   "source": [
    "metadata['description'].head(15)"
   ]
  },
  {
   "cell_type": "code",
   "execution_count": 4,
   "metadata": {},
   "outputs": [
    {
     "data": {
      "text/plain": [
       "0        Key Features of Alisha Solid Women's Cycling S...\n",
       "1        FabHomeDecor Fabric Double Sofa Bed (Finish Co...\n",
       "2        Key Features of AW Bellies Sandals Wedges Heel...\n",
       "3        Key Features of Alisha Solid Women's Cycling S...\n",
       "4        Specifications of Sicons All Purpose Arnica Do...\n",
       "5        Key Features of Eternal Gandhi Super Series Cr...\n",
       "6        Key Features of Alisha Solid Women's Cycling S...\n",
       "7        FabHomeDecor Fabric Double Sofa Bed (Finish Co...\n",
       "8        Key Features of dilli bazaaar Bellies, Corpora...\n",
       "9        Key Features of Alisha Solid Women's Cycling S...\n",
       "10       Key Features of Ladela Bellies Brand: LADELA C...\n",
       "11       Key Features of Carrel Printed Women's Fabric:...\n",
       "12       Specifications of Sicons All Purpose Tea Tree ...\n",
       "13       Key Features of Alisha Solid Women's Cycling S...\n",
       "14       Specifications of Freelance Vacuum Bottles 350...\n",
       "15       Key Features of Alisha Solid Women's Cycling S...\n",
       "16       FabHomeDecor Fabric Double Sofa Bed (Finish Co...\n",
       "17       Key Features of Style Foot Bellies ballerina s...\n",
       "18       Key Features of Carrel Printed Women's Fabric:...\n",
       "19       FabHomeDecor Fabric Double Sofa Bed (Finish Co...\n",
       "20       Specifications of Sicons Conditioning Conditon...\n",
       "21       Alisha Solid Women's Cycling Shorts - Buy Blac...\n",
       "22       Specifications of dongli Printed Boy's Round N...\n",
       "23       Key Features of SWAGGA Women Clogs Occasion: E...\n",
       "24       Buy Kennel Rubber Dumbell With Bell - Small Ru...\n",
       "25                                                        \n",
       "26                                                        \n",
       "27                                                        \n",
       "28                                                        \n",
       "29                                                        \n",
       "                               ...                        \n",
       "9972                                                      \n",
       "9973                                                      \n",
       "9974                                                      \n",
       "9975                                                      \n",
       "9976                                                      \n",
       "9977     Baaamboos Men's Solid Formal Shirt - Buy Magen...\n",
       "9978                                                      \n",
       "9979     Flipkart.com: Buy Fuschia Pure Neem for Rs. 20...\n",
       "9980                                                      \n",
       "9981     Clovia Non Padded Women's Full Coverage Bra\\n ...\n",
       "9982                                                      \n",
       "9983     Baaamboos Men's Solid Formal Shirt - Buy Light...\n",
       "9984     Clovia Women's Plunge Bra - Buy Pink Clovia Wo...\n",
       "9985                                                      \n",
       "9986                                                      \n",
       "9987     Channel Nine Pack of 2 Women's Tube Bra - Buy ...\n",
       "9988     Buy HP 15-ac116TX (Notebook) (Core i3 (5th Gen...\n",
       "9989     Buy HP 15-ac121tu (Notebook) (Core i3 (5th Gen...\n",
       "9990     Puma Men's Striped Casual Shirt - Buy Greenery...\n",
       "9991     Baaamboos Men's Solid Formal Shirt - Buy Light...\n",
       "9992     Baaamboos Men's Solid Formal Shirt - Buy Magen...\n",
       "9993                                                      \n",
       "9994                                                      \n",
       "9995     Bralux Dolly Women's T-Shirt Bra\\n            ...\n",
       "9996                                                      \n",
       "9997     baaamboos Men's Solid Formal Shirt - Buy Red b...\n",
       "9998                                                      \n",
       "9999     AutoKraftZ Silicone Car Bumper Guard (Black, P...\n",
       "10000    Bodyline Bossy Women's T-Shirt Bra - Buy Red B...\n",
       "10001                                                     \n",
       "Name: soup, Length: 10002, dtype: object"
      ]
     },
     "execution_count": 4,
     "metadata": {},
     "output_type": "execute_result"
    }
   ],
   "source": [
    "#temp_category_tree=metadata['product_category_tree'].split('>>')\n",
    "metadata['soup']=metadata['description']+metadata['product_name']+metadata['brand']+metadata['product_category_tree']\n",
    "metadata['soup']=metadata['soup'].fillna('')\n",
    "metadata['soup']"
   ]
  },
  {
   "cell_type": "code",
   "execution_count": 5,
   "metadata": {},
   "outputs": [
    {
     "data": {
      "text/plain": [
       "(10002, 18437)"
      ]
     },
     "execution_count": 5,
     "metadata": {},
     "output_type": "execute_result"
    }
   ],
   "source": [
    "#Define a TF-IDF Vectorizer Object. Remove all english stop words such as 'the', 'a'\n",
    "tfidf = TfidfVectorizer(stop_words='english')\n",
    "\n",
    "#Replace NaN with an empty string\n",
    "#metadata['description'] = metadata['description'].fillna('')\n",
    "\n",
    "#Construct the required TF-IDF matrix by fitting and transforming the data\n",
    "tfidf_matrix = tfidf.fit_transform(metadata['soup'])\n",
    "\n",
    "#Output the shape of tfidf_matrix\n",
    "tfidf_matrix.shape"
   ]
  },
  {
   "cell_type": "code",
   "execution_count": 6,
   "metadata": {
    "collapsed": true
   },
   "outputs": [],
   "source": [
    "cosine_sim = linear_kernel(tfidf_matrix, tfidf_matrix)"
   ]
  },
  {
   "cell_type": "code",
   "execution_count": 7,
   "metadata": {
    "collapsed": true
   },
   "outputs": [],
   "source": [
    "indices = pd.Series(metadata.index, index=metadata['pid']).drop_duplicates()"
   ]
  },
  {
   "cell_type": "code",
   "execution_count": 9,
   "metadata": {
    "collapsed": true
   },
   "outputs": [],
   "source": [
    "# Function that takes in movie title as input and outputs most similar movies\n",
    "def get_recommendations(title, cosine_sim=cosine_sim):\n",
    "    # Get the index of the movie that matches the title\n",
    "    idx = indices[title]\n",
    "\n",
    "    # Get the pairwsie similarity scores of all movies with that movie\n",
    "    sim_scores = list(enumerate(cosine_sim[idx]))\n",
    "\n",
    "    # Sort the movies based on the similarity scores\n",
    "    sim_scores = sorted(sim_scores, key=lambda x: x[1], reverse=True)\n",
    "\n",
    "    # Get the scores of the 10 most similar movies\n",
    "    sim_scores = sim_scores[1:21]\n",
    "\n",
    "    # Get the movie indices\n",
    "    movie_indices = [i[0] for i in sim_scores]\n",
    "\n",
    "    # Return the top 20 most similar movies\n",
    "    print(metadata['product_name'].iloc[movie_indices])\n",
    "    return metadata['pid'].iloc[movie_indices]"
   ]
  },
  {
   "cell_type": "code",
   "execution_count": 10,
   "metadata": {},
   "outputs": [
    {
     "name": "stdout",
     "output_type": "stream",
     "text": [
      "3                    Alisha Solid Women's Cycling Shorts\n",
      "9                    Alisha Solid Women's Cycling Shorts\n",
      "6                    Alisha Solid Women's Cycling Shorts\n",
      "13                   Alisha Solid Women's Cycling Shorts\n",
      "15                   Alisha Solid Women's Cycling Shorts\n",
      "21                   Alisha Solid Women's Cycling Shorts\n",
      "978    Mynte Solid Women's Cycling Shorts, Gym Shorts...\n",
      "936    Mynte Solid Women's Cycling Shorts, Gym Shorts...\n",
      "939    Mynte Solid Women's Cycling Shorts, Gym Shorts...\n",
      "979    Mynte Solid Women's Cycling Shorts, Gym Shorts...\n",
      "965    Mynte Solid Women's Cycling Shorts, Gym Shorts...\n",
      "963    Mynte Solid Women's Cycling Shorts, Gym Shorts...\n",
      "945    Mynte Solid Women's Cycling Shorts, Gym Shorts...\n",
      "975    Mynte Solid Women's Cycling Shorts, Gym Shorts...\n",
      "941    Mynte Solid Women's Cycling Shorts, Gym Shorts...\n",
      "980    Mynte Solid Women's Cycling Shorts, Gym Shorts...\n",
      "966    Mynte Solid Women's Cycling Shorts, Gym Shorts...\n",
      "935    Mynte Solid Women's Cycling Shorts, Gym Shorts...\n",
      "948    Mynte Solid Women's Cycling Shorts, Gym Shorts...\n",
      "967    Mynte Solid Women's Cycling Shorts, Gym Shorts...\n",
      "Name: product_name, dtype: object\n",
      "3      SRTEH2F6HUZMQ6SJ\n",
      "9      SRTEH2FVUHAAVH9X\n",
      "6      SRTEH2FVVKRBAXHB\n",
      "13     SRTEH2FGBDJGX8FW\n",
      "15     SRTEH2FECMGNZJXJ\n",
      "21     SRTEH2FD3ANFFMHP\n",
      "978    SRTEGWKKZTUGHFZ6\n",
      "936    SRTEGWKKP9H88DQY\n",
      "939    SRTEGWKMPXHHN4MF\n",
      "979    SRTEGWKJNWGAJHQR\n",
      "965    SRTEGWKGYKXZWG2S\n",
      "963    SRTEGWKG97QKQTFZ\n",
      "945    SRTEGWKKQABUMGFA\n",
      "975    SRTEGWKKRXZ5FEKN\n",
      "941    SRTEGWKHYZ7FTDBG\n",
      "980    SRTEGWKHXHCF2TME\n",
      "966    SRTEGWKMWDED9GFW\n",
      "935    SRTEGWKKZNUYX7HW\n",
      "948    SRTEGWKJHSWWTCYG\n",
      "967    SRTEGWKJQDFFN5E5\n",
      "Name: pid, dtype: object\n"
     ]
    }
   ],
   "source": [
    "print(get_recommendations('SRTEH2FF9KEDEFGF'))"
   ]
  },
  {
   "cell_type": "code",
   "execution_count": null,
   "metadata": {
    "collapsed": true
   },
   "outputs": [],
   "source": []
  }
 ],
 "metadata": {
  "kernelspec": {
   "display_name": "Python 3",
   "language": "python",
   "name": "python3"
  },
  "language_info": {
   "codemirror_mode": {
    "name": "ipython",
    "version": 3
   },
   "file_extension": ".py",
   "mimetype": "text/x-python",
   "name": "python",
   "nbconvert_exporter": "python",
   "pygments_lexer": "ipython3",
   "version": "3.6.2rc1"
  }
 },
 "nbformat": 4,
 "nbformat_minor": 2
}
