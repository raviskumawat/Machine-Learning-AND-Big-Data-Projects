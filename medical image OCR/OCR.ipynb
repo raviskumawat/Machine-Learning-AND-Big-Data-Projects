{
 "cells": [
  {
   "cell_type": "code",
   "execution_count": 1,
   "metadata": {
    "ExecuteTime": {
     "end_time": "2019-06-11T17:01:15.529464Z",
     "start_time": "2019-06-11T17:01:07.326780Z"
    }
   },
   "outputs": [],
   "source": [
    "from PIL import Image\n",
    "import pytesseract\n"
   ]
  },
  {
   "cell_type": "code",
   "execution_count": 3,
   "metadata": {
    "ExecuteTime": {
     "end_time": "2019-06-11T17:12:24.197407Z",
     "start_time": "2019-06-11T17:12:21.854565Z"
    }
   },
   "outputs": [],
   "source": [
    "pytesseract.pytesseract.tesseract_cmd = r'C:/Users/Ravi/AppData/Local/Tesseract-OCR/tesseract'\n",
    "pdf = pytesseract.image_to_pdf_or_hocr('evaluationpythondeveloperassessmentravi/report1.jpg', extension='pdf')\n"
   ]
  },
  {
   "cell_type": "code",
   "execution_count": 19,
   "metadata": {
    "ExecuteTime": {
     "end_time": "2019-06-11T17:48:03.147097Z",
     "start_time": "2019-06-11T17:48:00.766189Z"
    }
   },
   "outputs": [
    {
     "name": "stdout",
     "output_type": "stream",
     "text": [
      "(b'<?xml version=\"1.0\" encoding=\"UTF-8\"?>\\n<!DOCTYPE html PUBLIC \"-//W3C//DT'\n",
      " b'D XHTML 1.0 Transitional//EN\"\\n    \"http://www.w3.org/TR/xhtml1/DTD/xhtml'\n",
      " b'1-transitional.dtd\">\\n<html xmlns=\"http://www.w3.org/1999/xhtml\" xml:lang'\n",
      " b'=\"en\" lang=\"en\">\\n <head>\\n  <title></title>\\n  <meta http-equiv=\"Content-T'\n",
      " b'ype\" content=\"text/html;charset=utf-8\"/>\\n  <meta name=\\'ocr-system\\' conte'\n",
      " b\"nt='tesseract v5.0.0.20190526' />\\n  <meta name='ocr-capabilities' conten\"\n",
      " b\"t='ocr_page ocr_carea ocr_par ocr_line ocrx_word ocrp_wconf'/>\\n </head>\\n\"\n",
      " b' <body>\\n  <div class=\\'ocr_page\\' id=\\'page_1\\' title=\\'image \"C:\\\\Users\\\\R'\n",
      " b'avi\\\\Desktop\\\\All Spark LAb2\\\\evaluationpythondeveloperassessmentravi\\\\repor'\n",
      " b't1.jpg\"; bbox 0 0 576 700; ppageno 0\\'>\\n   <div class=\\'ocr_carea\\' id='\n",
      " b'\\'block_1_1\\' title=\"bbox 0 0 576 109\">\\n    <p class=\\'ocr_par\\' id=\\'par'\n",
      " b'_1_1\\' lang=\\'eng\\' title=\"bbox 0 0 576 109\">\\n     <span class=\\'ocr_lin'\n",
      " b'e\\' id=\\'line_1_1\\' title=\"bbox 0 0 576 109; baseline 0 591; x_size 137.5; '\n",
      " b'x_descenders 34.375; x_ascenders 34.375\">\\n      <span class=\\'ocrx_word\\' '\n",
      " b\"id='word_1_1' title='bbox 0 0 576 109; x_wconf 95'> </span>\\n     </span>\"\n",
      " b'\\n    </p>\\n   </div>\\n   <div class=\\'ocr_carea\\' id=\\'block_1_2\\' title=\"'\n",
      " b'bbox 449 167 452 172\">\\n    <p class=\\'ocr_par\\' id=\\'par_1_2\\' lang=\\'eng'\n",
      " b'\\' title=\"bbox 449 167 452 172\">\\n     <span class=\\'ocr_line\\' id=\\'line'\n",
      " b'_1_2\\' title=\"bbox 449 167 452 172; baseline 0 0; x_size 2.5; x_descender'\n",
      " b's -1.25; x_ascenders 1.25\">\\n      <span class=\\'ocrx_word\\' id=\\'word_1'\n",
      " b\"_2' title='bbox 449 167 452 172; x_wconf 95'> </span>\\n     </span>\\n    <\"\n",
      " b'/p>\\n   </div>\\n   <div class=\\'ocr_carea\\' id=\\'block_1_3\\' title=\"bbox 4'\n",
      " b'8 128 522 177\">\\n    <p class=\\'ocr_par\\' id=\\'par_1_3\\' lang=\\'eng\\' title'\n",
      " b'=\"bbox 48 128 522 156\">\\n     <span class=\\'ocr_line\\' id=\\'line_1_3\\' ti'\n",
      " b'tle=\"bbox 48 128 522 146; baseline 0.015 -10; x_size 27.25; x_descenders 5.5'\n",
      " b'; x_ascenders 7.25\">\\n      <span class=\\'ocrx_word\\' id=\\'word_1_3\\' tit'\n",
      " b\"le='bbox 48 129 70 136; x_wconf 0'>Bete</span>\\n      <span class='ocrx_w\"\n",
      " b\"ord' id='word_1_4' title='bbox 114 130 128 137; x_wconf 0'>eates</span>\\n\"\n",
      " b\"      <span class='ocrx_word' id='word_1_5' title='bbox 133 131 214 138; x_w\"\n",
      " b\"conf 0'>stress</span>\\n      <span class='ocrx_word' id='word_1_6' title=\"\n",
      " b\"'bbox 363 131 399 138; x_wconf 0'>cotmana</span>\\n      <span class='ocrx\"\n",
      " b\"_word' id='word_1_7' title='bbox 437 128 473 146; x_wconf 0'>Yuzu</span>\"\n",
      " b\"\\n      <span class='ocrx_word' id='word_1_8' title='bbox 481 137 522 144\"\n",
      " b\"; x_wconf 0'>s2akour</span>\\n     </span>\\n     <span class='ocr_line' id=\"\n",
      " b'\\'line_1_4\\' title=\"bbox 355 139 520 162; baseline -0.006 -6.949; x_size 1'\n",
      " b'2.528736; x_descenders 2.5287356; x_ascenders 3.3333335\">\\n      <span cl'\n",
      " b\"ass='ocrx_word' id='word_1_9' title='bbox 355 139 398 162; x_wconf 32'>war</\"\n",
      " b\"span>\\n      <span class='ocrx_word' id='word_1_10' title='bbox 455 150 4\"\n",
      " b\"73 156; x_wconf 0'>2017</span>\\n      <span class='ocrx_word' id='word_1_\"\n",
      " b\"11' title='bbox 478 149 502 155; x_wconf 0'>4:03:49</span>\\n     </span>\\n\"\n",
      " b'    </p>\\n\\n    <p class=\\'ocr_par\\' id=\\'par_1_4\\' lang=\\'eng\\' title=\"bbox'\n",
      " b' 49 149 454 161\">\\n     <span class=\\'ocr_line\\' id=\\'line_1_5\\' title=\"b'\n",
      " b'box 49 149 398 161; baseline 0.015 -6; x_size 27.25; x_descenders 5.5; x_asc'\n",
      " b'enders 7.25\">\\n      <span class=\\'ocrx_word\\' id=\\'word_1_12\\' title=\\'bb'\n",
      " b\"ox 49 150 64 156; x_wconf 16'>tia</span>\\n      <span class='ocrx_word' i\"\n",
      " b\"d='word_1_13' title='bbox 115 149 156 156; x_wconf 29'>mun</span>\\n      \"\n",
      " b\"<span class='ocrx_word' id='word_1_14' title='bbox 174 151 189 159; x_wconf \"\n",
      " b\"23'>Age</span>\\n      <span class='ocrx_word' id='word_1_15' title='bbox \"\n",
      " b\"199 151 293 158; x_wconf 14'>atone</span>\\n      <span class='ocrx_word' \"\n",
      " b\"id='word_1_16' title='bbox 308 152 335 159; x_wconf 43'>tems</span>\\n    \"\n",
      " b\"  <span class='ocrx_word' id='word_1_17' title='bbox 363 151 454 161; x_wcon\"\n",
      " b\"f 18'>Se</span>\\n     </span>\\n    </p>\\n\\n    <p class='ocr_par' id='par_1_\"\n",
      " b'5\\' lang=\\'eng\\' title=\"bbox 51 167 448 177\">\\n     <span class=\\'ocr_lin'\n",
      " b'e\\' id=\\'line_1_6\\' title=\"bbox 51 167 448 177; baseline 0.008 -2; x_size 1'\n",
      " b'2.528736; x_descenders 2.5287356; x_ascenders 3.3333335\">\\n      <span cl'\n",
      " b\"ass='ocrx_word' id='word_1_18' title='bbox 51 169 63 175; x_wconf 60'>Ac</sp\"\n",
      " b\"an>\\n      <span class='ocrx_word' id='word_1_19' title='bbox 66 169 91 1\"\n",
      " b\"75; x_wconf 0'>Stas</span>\\n      <span class='ocrx_word' id='word_1_20' \"\n",
      " b\"title='bbox 175 170 200 177; x_wconf 66'>RetBy:</span>\\n      <span class\"\n",
      " b\"='ocrx_word' id='word_1_21' title='bbox 216 169 236 176; x_wconf 89'>SELF</s\"\n",
      " b\"pan>\\n      <span class='ocrx_word' id='word_1_22' title='bbox 355 163 38\"\n",
      " b\"9 185; x_wconf 71'>\\xe2\\x80\\x98Report</span>\\n      <span class='ocrx_word\"\n",
      " b\"' id='word_1_23' title='bbox 388 163 415 185; x_wconf 28'>Status</span>\\n\"\n",
      " b\"      <span class='ocrx_word' id='word_1_24' title='bbox 436 167 448 172; x_\"\n",
      " b\"wconf 41'>Fin</span>\\n     </span>\\n    </p>\\n   </div>\\n   <div class='ocr_\"\n",
      " b'carea\\' id=\\'block_1_4\\' title=\"bbox 70 236 98 240\">\\n    <p class=\\'ocr_'\n",
      " b'par\\' id=\\'par_1_6\\' lang=\\'eng\\' title=\"bbox 70 236 98 240\">\\n     <span '\n",
      " b'class=\\'ocr_line\\' id=\\'line_1_7\\' title=\"bbox 70 236 98 240; baseline 0 0; '\n",
      " b'x_size 2; x_descenders -1; x_ascenders 1\">\\n      <span class=\\'ocrx_word\\''\n",
      " b\" id='word_1_25' title='bbox 70 236 98 240; x_wconf 95'> </span>\\n     </s\"\n",
      " b\"pan>\\n    </p>\\n   </div>\\n   <div class='ocr_carea' id='block_1_5' tit\"\n",
      " b'le=\"bbox 47 260 147 274\">\\n    <p class=\\'ocr_par\\' id=\\'par_1_7\\' lang=\\''\n",
      " b'eng\\' title=\"bbox 47 260 147 274\">\\n     <span class=\\'ocr_line\\' id=\\'li'\n",
      " b'ne_1_8\\' title=\"bbox 47 260 147 274; baseline 0 -5; x_size 20; x_descende'\n",
      " b'rs 5; x_ascenders 5\">\\n      <span class=\\'ocrx_word\\' id=\\'word_1_26\\' t'\n",
      " b\"itle='bbox 47 260 147 274; x_wconf 95'>  </span>\\n     </span>\\n    </p>\\n \"\n",
      " b'  </div>\\n   <div class=\\'ocr_carea\\' id=\\'block_1_6\\' title=\"bbox 70 326'\n",
      " b' 83 340\">\\n    <p class=\\'ocr_par\\' id=\\'par_1_8\\' lang=\\'eng\\' title=\"bbox'\n",
      " b' 70 326 83 340\">\\n     <span class=\\'ocr_line\\' id=\\'line_1_9\\' title=\"bb'\n",
      " b'ox 70 326 83 340; baseline 0 360; x_size 20; x_descenders 5; x_ascenders 5\">'\n",
      " b\"\\n      <span class='ocrx_word' id='word_1_27' title='bbox 70 326 83 340;\"\n",
      " b\" x_wconf 95'> </span>\\n     </span>\\n    </p>\\n   </div>\\n   <div class='ocr\"\n",
      " b'_carea\\' id=\\'block_1_7\\' title=\"bbox 315 361 355 370\">\\n    <p class=\\'o'\n",
      " b'cr_par\\' id=\\'par_1_9\\' lang=\\'eng\\' title=\"bbox 315 361 355 370\">\\n     <'\n",
      " b'span class=\\'ocr_line\\' id=\\'line_1_10\\' title=\"bbox 315 361 355 370; baseli'\n",
      " b'ne 0 330; x_size 20; x_descenders 5; x_ascenders 5\">\\n      <span class=\\''\n",
      " b\"ocrx_word' id='word_1_28' title='bbox 315 361 355 370; x_wconf 95'> </sp\"\n",
      " b'an>\\n     </span>\\n    </p>\\n   </div>\\n  </div>\\n </body>\\n</html>\\n')\n"
     ]
    }
   ],
   "source": [
    "hocr = pytesseract.image_to_pdf_or_hocr('evaluationpythondeveloperassessmentravi/report1.jpg', extension='hocr')\n",
    "pprint(hocr)"
   ]
  },
  {
   "cell_type": "code",
   "execution_count": 9,
   "metadata": {
    "ExecuteTime": {
     "end_time": "2019-06-11T17:19:26.465678Z",
     "start_time": "2019-06-11T17:19:26.034569Z"
    }
   },
   "outputs": [
    {
     "data": {
      "text/plain": [
       "<matplotlib.image.AxesImage at 0x1baf8766a58>"
      ]
     },
     "execution_count": 9,
     "metadata": {},
     "output_type": "execute_result"
    },
    {
     "data": {
      "image/png": "[encoded data removed]",
      "text/plain": [
       "<Figure size 432x288 with 1 Axes>"
      ]
     },
     "metadata": {
      "needs_background": "light"
     },
     "output_type": "display_data"
    }
   ],
   "source": [
    "from matplotlib.pyplot import imshow\n",
    "%matplotlib inline\n",
    "img=Image.open('evaluationpythondeveloperassessmentravi/report1.jpg')\n",
    "imshow(img)"
   ]
  },
  {
   "cell_type": "code",
   "execution_count": 18,
   "metadata": {
    "ExecuteTime": {
     "end_time": "2019-06-11T17:44:52.936667Z",
     "start_time": "2019-06-11T17:44:50.479086Z"
    }
   },
   "outputs": [
    {
     "name": "stdout",
     "output_type": "stream",
     "text": [
      "('Name Mr SANTOSH SHARIA canecnt Nguaor? 0-100\\n'\n",
      " '\\n'\n",
      " ' \\n'\n",
      " '\\n'\n",
      " ' \\n'\n",
      " '\\n'\n",
      " 'ammo, 3TERNEHE Age: G2 Years Gender. Female aponad «= UMDONT 4034\\n'\n",
      " 'Nests Retay: sei Repor State Fl')\n"
     ]
    }
   ],
   "source": [
    "pprint(pytesseract.image_to_string(img))"
   ]
  },
  {
   "cell_type": "code",
   "execution_count": 20,
   "metadata": {
    "ExecuteTime": {
     "end_time": "2019-06-11T17:52:13.531708Z",
     "start_time": "2019-06-11T17:52:08.316409Z"
    }
   },
   "outputs": [
    {
     "name": "stdout",
     "output_type": "stream",
     "text": [
      "('Patient Name\\n'\n",
      " '\\n'\n",
      " 'REKHA\\n'\n",
      " 'Ref By Or.Virinder Singh\\n'\n",
      " 'Dated 31/08/2015\\n'\n",
      " '\\n'\n",
      " 'Investigations\\n'\n",
      " '\\n'\n",
      " 'HAEMATOLOGY INVESTIGATIGi\\n'\n",
      " '\\n'\n",
      " 'Haemogtobin\\n'\n",
      " 'Total Leucocy\\n'\n",
      " '\\n'\n",
      " ' \\n'\n",
      " '\\n'\n",
      " ' \\n'\n",
      " '\\n'\n",
      " 'Differential Leucocyte Count :\\n'\n",
      " 'Neutrophils\\n'\n",
      " '\\n'\n",
      " 'Basophils\\n'\n",
      " '\\n'\n",
      " '  \\n'\n",
      " '\\n'\n",
      " 'SEROLOGICAL INVESTIGATION\\n'\n",
      " 'SEROLOGICAL INVESTIGATION\\n'\n",
      " '\\n'\n",
      " 'HBs Ag\\n'\n",
      " 'iF HOY\\n'\n",
      " '\\n'\n",
      " 'Biochemical Investigation\\n'\n",
      " '\\n'\n",
      " '7 RENAL PROFILE\\n'\n",
      " '\\n'\n",
      " 'Blood Urea\\n'\n",
      " 'Serum Creatinine\\n'\n",
      " '\\n'\n",
      " 'www.drdassans.com\\n'\n",
      " '\\n'\n",
      " ' \\n'\n",
      " '\\n'\n",
      " ' \\n'\n",
      " '\\n'\n",
      " 'Age :\\n'\n",
      " 'Report No. 28\\n'\n",
      " 'a OT\\n'\n",
      " 'Result Units Normal\\n'\n",
      " '1340 “Tea IMer2-4\\n'\n",
      " '26,200 imma 4000-10\\n'\n",
      " 'neg tee}\\n'\n",
      " 'o2 %\\n'\n",
      " '00 %\\n'\n",
      " '\\n'\n",
      " ' \\n'\n",
      " '\\n'\n",
      " 'Non Reactive\\n'\n",
      " 'Non Reactive y')\n"
     ]
    }
   ],
   "source": [
    "img2=Image.open('evaluationpythondeveloperassessmentravi/report2.jpg')\n",
    "pprint(pytesseract.image_to_string(img2))"
   ]
  },
  {
   "cell_type": "code",
   "execution_count": 21,
   "metadata": {
    "ExecuteTime": {
     "end_time": "2019-06-11T17:53:00.510668Z",
     "start_time": "2019-06-11T17:52:52.841802Z"
    }
   },
   "outputs": [
    {
     "name": "stdout",
     "output_type": "stream",
     "text": [
      "('ECHS nce 5\\n'\n",
      " 'REQUEST FOR SPECIAL INVESTIGATION i =\\n'\n",
      " '\\n'\n",
      " 'Bescon reel! tam st TE\\n'\n",
      " 'fe 36! Traits Singin MAE ayy\\n'\n",
      " '\\n'\n",
      " 'ee aaa\\n'\n",
      " 'eR Ss 8S ws wy\\n'\n",
      " 'wet sO it 1] ot (18)\\n'\n",
      " '\\n'\n",
      " '3 ia L oe\\n'\n",
      " '7 mais\\n'\n",
      " '\\n'\n",
      " '‘\\n'\n",
      " '\\n'\n",
      " 'wane 5 amit iia oi\\n'\n",
      " 'eee Sas Meera p= apm pa\\n'\n",
      " 'et % socchoussrr ——Y} mot 970)\\n'\n",
      " 'cosmos OS 5 puuteennss 1.57 eyo)\\n'\n",
      " 'eons cute OR mm\\n'\n",
      " 'tm rm Fe\\n'\n",
      " '——— a a nc\\n'\n",
      " '\\n'\n",
      " 'fee Reka\\n'\n",
      " '\\n'\n",
      " '(9a mies cir ga ete\\n'\n",
      " '\\n'\n",
      " 'ote tte)')\n"
     ]
    }
   ],
   "source": [
    "img3=Image.open('evaluationpythondeveloperassessmentravi/report3.jpg')\n",
    "pprint(pytesseract.image_to_string(img3))"
   ]
  },
  {
   "cell_type": "code",
   "execution_count": 17,
   "metadata": {
    "ExecuteTime": {
     "end_time": "2019-06-11T17:44:41.975743Z",
     "start_time": "2019-06-11T17:44:39.103546Z"
    }
   },
   "outputs": [
    {
     "name": "stdout",
     "output_type": "stream",
     "text": [
      "('level\\tpage_num\\tblock_num\\tpar_num\\tline_num\\tword_num\\tleft\\ttop\\twidth\\t'\n",
      " 'height\\tconf\\ttext\\n'\n",
      " '1\\t1\\t0\\t0\\t0\\t0\\t0\\t0\\t576\\t700\\t-1\\t\\n'\n",
      " '2\\t1\\t1\\t0\\t0\\t0\\t0\\t0\\t576\\t109\\t-1\\t\\n'\n",
      " '3\\t1\\t1\\t1\\t0\\t0\\t0\\t0\\t576\\t109\\t-1\\t\\n'\n",
      " '4\\t1\\t1\\t1\\t1\\t0\\t0\\t0\\t576\\t109\\t-1\\t\\n'\n",
      " '5\\t1\\t1\\t1\\t1\\t1\\t0\\t0\\t576\\t109\\t95\\t \\n'\n",
      " '2\\t1\\t2\\t0\\t0\\t0\\t48\\t129\\t474\\t21\\t-1\\t\\n'\n",
      " '3\\t1\\t2\\t1\\t0\\t0\\t48\\t129\\t474\\t21\\t-1\\t\\n'\n",
      " '4\\t1\\t2\\t1\\t1\\t0\\t48\\t129\\t474\\t21\\t-1\\t\\n'\n",
      " '5\\t1\\t2\\t1\\t1\\t1\\t48\\t129\\t23\\t7\\t41\\tName\\n'\n",
      " '5\\t1\\t2\\t1\\t1\\t2\\t114\\t130\\t14\\t7\\t41\\tMr\\n'\n",
      " '5\\t1\\t2\\t1\\t1\\t3\\t133\\t131\\t40\\t7\\t79\\tSANTOSH\\n'\n",
      " '5\\t1\\t2\\t1\\t1\\t4\\t178\\t131\\t36\\t7\\t56\\tSHARIA\\n'\n",
      " '5\\t1\\t2\\t1\\t1\\t5\\t363\\t131\\t36\\t19\\t0\\tcanecnt\\n'\n",
      " '5\\t1\\t2\\t1\\t1\\t6\\t437\\t139\\t36\\t7\\t0\\tNguaor?\\n'\n",
      " '5\\t1\\t2\\t1\\t1\\t7\\t489\\t137\\t33\\t7\\t31\\t0-100\\n'\n",
      " '2\\t1\\t3\\t0\\t0\\t0\\t449\\t167\\t3\\t5\\t-1\\t\\n'\n",
      " '3\\t1\\t3\\t1\\t0\\t0\\t449\\t167\\t3\\t5\\t-1\\t\\n'\n",
      " '4\\t1\\t3\\t1\\t1\\t0\\t449\\t167\\t3\\t5\\t-1\\t\\n'\n",
      " '5\\t1\\t3\\t1\\t1\\t1\\t449\\t167\\t3\\t5\\t95\\t \\n'\n",
      " '2\\t1\\t4\\t0\\t0\\t0\\t78\\t237\\t20\\t3\\t-1\\t\\n'\n",
      " '3\\t1\\t4\\t1\\t0\\t0\\t78\\t237\\t20\\t3\\t-1\\t\\n'\n",
      " '4\\t1\\t4\\t1\\t1\\t0\\t78\\t237\\t20\\t3\\t-1\\t\\n'\n",
      " '5\\t1\\t4\\t1\\t1\\t1\\t78\\t237\\t20\\t3\\t95\\t \\n'\n",
      " '2\\t1\\t5\\t0\\t0\\t0\\t49\\t149\\t453\\t28\\t-1\\t\\n'\n",
      " '3\\t1\\t5\\t1\\t0\\t0\\t49\\t149\\t453\\t28\\t-1\\t\\n'\n",
      " '4\\t1\\t5\\t1\\t1\\t0\\t49\\t149\\t453\\t12\\t-1\\t\\n'\n",
      " '5\\t1\\t5\\t1\\t1\\t1\\t49\\t150\\t31\\t6\\t34\\tammo,\\n'\n",
      " '5\\t1\\t5\\t1\\t1\\t2\\t115\\t149\\t41\\t8\\t0\\t3TERNEHE\\n'\n",
      " '5\\t1\\t5\\t1\\t1\\t3\\t174\\t151\\t15\\t8\\t44\\tAge:\\n'\n",
      " '5\\t1\\t5\\t1\\t1\\t4\\t194\\t139\\t13\\t28\\t19\\tG2\\n'\n",
      " '5\\t1\\t5\\t1\\t1\\t5\\t208\\t139\\t26\\t28\\t19\\tYears\\n'\n",
      " '5\\t1\\t5\\t1\\t1\\t6\\t266\\t151\\t27\\t7\\t38\\tGender.\\n'\n",
      " '5\\t1\\t5\\t1\\t1\\t7\\t308\\t152\\t27\\t7\\t41\\tFemale\\n'\n",
      " '5\\t1\\t5\\t1\\t1\\t8\\t363\\t154\\t35\\t7\\t22\\taponad\\n'\n",
      " '5\\t1\\t5\\t1\\t1\\t9\\t411\\t139\\t22\\t28\\t2\\t«=\\n'\n",
      " '5\\t1\\t5\\t1\\t1\\t10\\t441\\t139\\t27\\t28\\t4\\tUMDONT\\n'\n",
      " '5\\t1\\t5\\t1\\t1\\t11\\t472\\t139\\t30\\t28\\t47\\t4034\\n'\n",
      " '4\\t1\\t5\\t1\\t2\\t0\\t51\\t167\\t397\\t10\\t-1\\t\\n'\n",
      " '5\\t1\\t5\\t1\\t2\\t1\\t51\\t169\\t40\\t6\\t9\\tNests\\n'\n",
      " '5\\t1\\t5\\t1\\t2\\t2\\t175\\t170\\t25\\t7\\t14\\tRetay:\\n'\n",
      " '5\\t1\\t5\\t1\\t2\\t3\\t216\\t169\\t20\\t7\\t21\\tsei\\n'\n",
      " '5\\t1\\t5\\t1\\t2\\t4\\t354\\t160\\t33\\t28\\t38\\tRepor\\n'\n",
      " '5\\t1\\t5\\t1\\t2\\t5\\t387\\t160\\t28\\t28\\t27\\tState\\n'\n",
      " '5\\t1\\t5\\t1\\t2\\t6\\t436\\t167\\t12\\t5\\t41\\tFl\\n'\n",
      " '2\\t1\\t6\\t0\\t0\\t0\\t130\\t264\\t37\\t5\\t-1\\t\\n'\n",
      " '3\\t1\\t6\\t1\\t0\\t0\\t130\\t264\\t37\\t5\\t-1\\t\\n'\n",
      " '4\\t1\\t6\\t1\\t1\\t0\\t130\\t264\\t37\\t5\\t-1\\t\\n'\n",
      " '5\\t1\\t6\\t1\\t1\\t1\\t130\\t264\\t37\\t5\\t95\\t \\n'\n",
      " '2\\t1\\t7\\t0\\t0\\t0\\t70\\t326\\t13\\t14\\t-1\\t\\n'\n",
      " '3\\t1\\t7\\t1\\t0\\t0\\t70\\t326\\t13\\t14\\t-1\\t\\n'\n",
      " '4\\t1\\t7\\t1\\t1\\t0\\t70\\t326\\t13\\t14\\t-1\\t\\n'\n",
      " '5\\t1\\t7\\t1\\t1\\t1\\t70\\t326\\t13\\t14\\t95\\t \\n'\n",
      " '2\\t1\\t8\\t0\\t0\\t0\\t315\\t361\\t43\\t9\\t-1\\t\\n'\n",
      " '3\\t1\\t8\\t1\\t0\\t0\\t315\\t361\\t43\\t9\\t-1\\t\\n'\n",
      " '4\\t1\\t8\\t1\\t1\\t0\\t315\\t361\\t43\\t9\\t-1\\t\\n'\n",
      " '5\\t1\\t8\\t1\\t1\\t1\\t315\\t361\\t43\\t9\\t95')\n"
     ]
    }
   ],
   "source": [
    "pprint(pytesseract.image_to_data(img))"
   ]
  },
  {
   "cell_type": "code",
   "execution_count": 13,
   "metadata": {
    "ExecuteTime": {
     "end_time": "2019-06-11T17:42:46.525862Z",
     "start_time": "2019-06-11T17:42:39.679529Z"
    }
   },
   "outputs": [
    {
     "data": {
      "text/plain": [
       "'{\"ParsedResults\":[{\"TextOverlay\":{\"Lines\":[],\"HasOverlay\":false,\"Message\":\"Text overlay is not provided as it is not requested\"},\"TextOrientation\":\"0\",\"FileParseExitCode\":1,\"ParsedText\":\"E Patæaco \\\\r\\\\nROAD \\\\r\\\\nSHARMA \\\\r\\\\nR.\\' By : SELF \\\\r\\\\nHe, 000 \\\\r\\\\nSERuy \\\\r\\\\n\",\"ErrorMessage\":\"\",\"ErrorDetails\":\"\"}],\"OCRExitCode\":1,\"IsErroredOnProcessing\":false,\"ProcessingTimeInMilliseconds\":\"619\",\"SearchablePDFURL\":\"Searchable PDF not generated as it was not requested.\"}'"
      ]
     },
     "execution_count": 13,
     "metadata": {},
     "output_type": "execute_result"
    }
   ],
   "source": [
    "import requests\n",
    "\n",
    "\n",
    "def ocr_space_file(filename, overlay=False, api_key='b6aa98105a88957', language='eng'):\n",
    "    \"\"\" OCR.space API request with local file.\n",
    "        Python3.5 - not tested on 2.7\n",
    "    :param filename: Your file path & name.\n",
    "    :param overlay: Is OCR.space overlay required in your response.\n",
    "                    Defaults to False.\n",
    "    :param api_key: OCR.space API key.\n",
    "                    Defaults to 'helloworld'.\n",
    "    :param language: Language code to be used in OCR.\n",
    "                    List of available language codes can be found on https://ocr.space/OCRAPI\n",
    "                    Defaults to 'en'.\n",
    "    :return: Result in JSON format.\n",
    "    \"\"\"\n",
    "\n",
    "    payload = {'isOverlayRequired': overlay,\n",
    "               'apikey': api_key,\n",
    "               'language': language,\n",
    "               }\n",
    "    with open(filename, 'rb') as f:\n",
    "        r = requests.post('https://api.ocr.space/parse/image',\n",
    "                          files={filename: f},\n",
    "                          data=payload,\n",
    "                          )\n",
    "    return r.content.decode()\n",
    "test_file = ocr_space_file(filename='evaluationpythondeveloperassessmentravi/report1.jpg')\n",
    "test_file"
   ]
  },
  {
   "cell_type": "code",
   "execution_count": 16,
   "metadata": {
    "ExecuteTime": {
     "end_time": "2019-06-11T17:44:23.176061Z",
     "start_time": "2019-06-11T17:44:23.168267Z"
    }
   },
   "outputs": [
    {
     "name": "stdout",
     "output_type": "stream",
     "text": [
      "('{\"ParsedResults\":[{\"TextOverlay\":{\"Lines\":[],\"HasOverlay\":false,\"Message\":\"Text '\n",
      " 'overlay is not provided as it is not '\n",
      " 'requested\"},\"TextOrientation\":\"0\",\"FileParseExitCode\":1,\"ParsedText\":\"E '\n",
      " \"Patæaco \\\\r\\\\nROAD \\\\r\\\\nSHARMA \\\\r\\\\nR.' By : SELF \\\\r\\\\nHe, 000 \"\n",
      " '\\\\r\\\\nSERuy '\n",
      " '\\\\r\\\\n\",\"ErrorMessage\":\"\",\"ErrorDetails\":\"\"}],\"OCRExitCode\":1,\"IsErroredOnProcessing\":false,\"ProcessingTimeInMilliseconds\":\"619\",\"SearchablePDFURL\":\"Searchable '\n",
      " 'PDF not generated as it was not requested.\"}')\n"
     ]
    }
   ],
   "source": [
    "from pprint import pprint\n",
    "pprint(test_file)"
   ]
  },
  {
   "cell_type": "code",
   "execution_count": 5,
   "metadata": {
    "ExecuteTime": {
     "end_time": "2019-06-12T01:18:09.425337Z",
     "start_time": "2019-06-12T01:18:09.396752Z"
    }
   },
   "outputs": [],
   "source": [
    "!set GOOGLE_APPLICATION_CREDENTIALS=\"C:/Users/Ravi/Desktop/All Spark LAb2/Image-OCR-7dc6630f22f8.json\"\n"
   ]
  },
  {
   "cell_type": "code",
   "execution_count": 7,
   "metadata": {
    "ExecuteTime": {
     "end_time": "2019-06-12T01:19:15.908170Z",
     "start_time": "2019-06-12T01:19:15.897032Z"
    }
   },
   "outputs": [],
   "source": [
    "import os\n",
    "os.environ[\"GOOGLE_APPLICATION_CREDENTIALS\"]=\"C:/Users/Ravi/Desktop/All Spark LAb2/Image-OCR-7dc6630f22f8.json\""
   ]
  },
  {
   "cell_type": "code",
   "execution_count": 9,
   "metadata": {
    "ExecuteTime": {
     "end_time": "2019-06-12T01:19:45.289438Z",
     "start_time": "2019-06-12T01:19:45.277680Z"
    }
   },
   "outputs": [],
   "source": [
    "## Trying using Google cloud vision API\n",
    "def detect_document(path):\n",
    "    \"\"\"Detects document features in an image.\"\"\"\n",
    "    from google.cloud import vision\n",
    "    client = vision.ImageAnnotatorClient()\n",
    "\n",
    "    with open(path, 'rb') as image_file:\n",
    "        content = image_file.read()\n",
    "\n",
    "    image = vision.types.Image(content=content)\n",
    "\n",
    "    response = client.document_text_detection(image=image)\n",
    "\n",
    "    for page in response.full_text_annotation.pages:\n",
    "        for block in page.blocks:\n",
    "            print('\\nBlock confidence: {}\\n'.format(block.confidence))\n",
    "\n",
    "            for paragraph in block.paragraphs:\n",
    "                print('Paragraph confidence: {}'.format(\n",
    "                    paragraph.confidence))\n",
    "\n",
    "                for word in paragraph.words:\n",
    "                    word_text = ''.join([\n",
    "                        symbol.text for symbol in word.symbols\n",
    "                    ])\n",
    "                    print('Word text: {} (confidence: {})'.format(\n",
    "                        word_text, word.confidence))\n",
    "\n",
    "                    for symbol in word.symbols:\n",
    "                        print('\\tSymbol: {} (confidence: {})'.format(\n",
    "                            symbol.text, symbol.confidence))"
   ]
  },
  {
   "cell_type": "code",
   "execution_count": 15,
   "metadata": {
    "ExecuteTime": {
     "end_time": "2019-06-12T01:57:55.350000Z",
     "start_time": "2019-06-12T01:57:53.600984Z"
    }
   },
   "outputs": [
    {
     "ename": "PermissionDenied",
     "evalue": "403 This API method requires billing to be enabled. Please enable billing on project #362773534056 by visiting https://console.developers.google.com/billing/enable?project=362773534056 then retry. If you enabled billing for this project recently, wait a few minutes for the action to propagate to our systems and retry.",
     "output_type": "error",
     "traceback": [
      "\u001b[1;31m---------------------------------------------------------------------------\u001b[0m",
      "\u001b[1;31m_Rendezvous\u001b[0m                               Traceback (most recent call last)",
      "\u001b[1;32m~\\Anaconda3\\lib\\site-packages\\google\\api_core\\grpc_helpers.py\u001b[0m in \u001b[0;36merror_remapped_callable\u001b[1;34m(*args, **kwargs)\u001b[0m\n\u001b[0;32m     56\u001b[0m         \u001b[1;32mtry\u001b[0m\u001b[1;33m:\u001b[0m\u001b[1;33m\u001b[0m\u001b[1;33m\u001b[0m\u001b[0m\n\u001b[1;32m---> 57\u001b[1;33m             \u001b[1;32mreturn\u001b[0m \u001b[0mcallable_\u001b[0m\u001b[1;33m(\u001b[0m\u001b[1;33m*\u001b[0m\u001b[0margs\u001b[0m\u001b[1;33m,\u001b[0m \u001b[1;33m**\u001b[0m\u001b[0mkwargs\u001b[0m\u001b[1;33m)\u001b[0m\u001b[1;33m\u001b[0m\u001b[1;33m\u001b[0m\u001b[0m\n\u001b[0m\u001b[0;32m     58\u001b[0m         \u001b[1;32mexcept\u001b[0m \u001b[0mgrpc\u001b[0m\u001b[1;33m.\u001b[0m\u001b[0mRpcError\u001b[0m \u001b[1;32mas\u001b[0m \u001b[0mexc\u001b[0m\u001b[1;33m:\u001b[0m\u001b[1;33m\u001b[0m\u001b[1;33m\u001b[0m\u001b[0m\n",
      "\u001b[1;32m~\\Anaconda3\\lib\\site-packages\\grpc\\_channel.py\u001b[0m in \u001b[0;36m__call__\u001b[1;34m(self, request, timeout, metadata, credentials)\u001b[0m\n\u001b[0;32m    532\u001b[0m         \u001b[0mstate\u001b[0m\u001b[1;33m,\u001b[0m \u001b[0mcall\u001b[0m\u001b[1;33m,\u001b[0m \u001b[1;33m=\u001b[0m \u001b[0mself\u001b[0m\u001b[1;33m.\u001b[0m\u001b[0m_blocking\u001b[0m\u001b[1;33m(\u001b[0m\u001b[0mrequest\u001b[0m\u001b[1;33m,\u001b[0m \u001b[0mtimeout\u001b[0m\u001b[1;33m,\u001b[0m \u001b[0mmetadata\u001b[0m\u001b[1;33m,\u001b[0m \u001b[0mcredentials\u001b[0m\u001b[1;33m)\u001b[0m\u001b[1;33m\u001b[0m\u001b[1;33m\u001b[0m\u001b[0m\n\u001b[1;32m--> 533\u001b[1;33m         \u001b[1;32mreturn\u001b[0m \u001b[0m_end_unary_response_blocking\u001b[0m\u001b[1;33m(\u001b[0m\u001b[0mstate\u001b[0m\u001b[1;33m,\u001b[0m \u001b[0mcall\u001b[0m\u001b[1;33m,\u001b[0m \u001b[1;32mFalse\u001b[0m\u001b[1;33m,\u001b[0m \u001b[1;32mNone\u001b[0m\u001b[1;33m)\u001b[0m\u001b[1;33m\u001b[0m\u001b[1;33m\u001b[0m\u001b[0m\n\u001b[0m\u001b[0;32m    534\u001b[0m \u001b[1;33m\u001b[0m\u001b[0m\n",
      "\u001b[1;32m~\\Anaconda3\\lib\\site-packages\\grpc\\_channel.py\u001b[0m in \u001b[0;36m_end_unary_response_blocking\u001b[1;34m(state, call, with_call, deadline)\u001b[0m\n\u001b[0;32m    466\u001b[0m     \u001b[1;32melse\u001b[0m\u001b[1;33m:\u001b[0m\u001b[1;33m\u001b[0m\u001b[1;33m\u001b[0m\u001b[0m\n\u001b[1;32m--> 467\u001b[1;33m         \u001b[1;32mraise\u001b[0m \u001b[0m_Rendezvous\u001b[0m\u001b[1;33m(\u001b[0m\u001b[0mstate\u001b[0m\u001b[1;33m,\u001b[0m \u001b[1;32mNone\u001b[0m\u001b[1;33m,\u001b[0m \u001b[1;32mNone\u001b[0m\u001b[1;33m,\u001b[0m \u001b[0mdeadline\u001b[0m\u001b[1;33m)\u001b[0m\u001b[1;33m\u001b[0m\u001b[1;33m\u001b[0m\u001b[0m\n\u001b[0m\u001b[0;32m    468\u001b[0m \u001b[1;33m\u001b[0m\u001b[0m\n",
      "\u001b[1;31m_Rendezvous\u001b[0m: <_Rendezvous of RPC that terminated with:\n\tstatus = StatusCode.PERMISSION_DENIED\n\tdetails = \"This API method requires billing to be enabled. Please enable billing on project #362773534056 by visiting https://console.developers.google.com/billing/enable?project=362773534056 then retry. If you enabled billing for this project recently, wait a few minutes for the action to propagate to our systems and retry.\"\n\tdebug_error_string = \"{\"created\":\"@1560304675.299000000\",\"description\":\"Error received from peer\",\"file\":\"src/core/lib/surface/call.cc\",\"file_line\":1017,\"grpc_message\":\"This API method requires billing to be enabled. Please enable billing on project #362773534056 by visiting https://console.developers.google.com/billing/enable?project=362773534056 then retry. If you enabled billing for this project recently, wait a few minutes for the action to propagate to our systems and retry.\",\"grpc_status\":7}\"\n>",
      "\nThe above exception was the direct cause of the following exception:\n",
      "\u001b[1;31mPermissionDenied\u001b[0m                          Traceback (most recent call last)",
      "\u001b[1;32m<ipython-input-15-f8f5b2ba08e6>\u001b[0m in \u001b[0;36m<module>\u001b[1;34m\u001b[0m\n\u001b[1;32m----> 1\u001b[1;33m \u001b[0mdetect_document\u001b[0m\u001b[1;33m(\u001b[0m\u001b[1;34m'evaluationpythondeveloperassessmentravi/report1.jpg'\u001b[0m\u001b[1;33m)\u001b[0m\u001b[1;33m\u001b[0m\u001b[1;33m\u001b[0m\u001b[0m\n\u001b[0m",
      "\u001b[1;32m<ipython-input-9-fb5837cb35f4>\u001b[0m in \u001b[0;36mdetect_document\u001b[1;34m(path)\u001b[0m\n\u001b[0;32m     10\u001b[0m     \u001b[0mimage\u001b[0m \u001b[1;33m=\u001b[0m \u001b[0mvision\u001b[0m\u001b[1;33m.\u001b[0m\u001b[0mtypes\u001b[0m\u001b[1;33m.\u001b[0m\u001b[0mImage\u001b[0m\u001b[1;33m(\u001b[0m\u001b[0mcontent\u001b[0m\u001b[1;33m=\u001b[0m\u001b[0mcontent\u001b[0m\u001b[1;33m)\u001b[0m\u001b[1;33m\u001b[0m\u001b[1;33m\u001b[0m\u001b[0m\n\u001b[0;32m     11\u001b[0m \u001b[1;33m\u001b[0m\u001b[0m\n\u001b[1;32m---> 12\u001b[1;33m     \u001b[0mresponse\u001b[0m \u001b[1;33m=\u001b[0m \u001b[0mclient\u001b[0m\u001b[1;33m.\u001b[0m\u001b[0mdocument_text_detection\u001b[0m\u001b[1;33m(\u001b[0m\u001b[0mimage\u001b[0m\u001b[1;33m=\u001b[0m\u001b[0mimage\u001b[0m\u001b[1;33m)\u001b[0m\u001b[1;33m\u001b[0m\u001b[1;33m\u001b[0m\u001b[0m\n\u001b[0m\u001b[0;32m     13\u001b[0m \u001b[1;33m\u001b[0m\u001b[0m\n\u001b[0;32m     14\u001b[0m     \u001b[1;32mfor\u001b[0m \u001b[0mpage\u001b[0m \u001b[1;32min\u001b[0m \u001b[0mresponse\u001b[0m\u001b[1;33m.\u001b[0m\u001b[0mfull_text_annotation\u001b[0m\u001b[1;33m.\u001b[0m\u001b[0mpages\u001b[0m\u001b[1;33m:\u001b[0m\u001b[1;33m\u001b[0m\u001b[1;33m\u001b[0m\u001b[0m\n",
      "\u001b[1;32m~\\Anaconda3\\lib\\site-packages\\google\\cloud\\vision_helpers\\decorators.py\u001b[0m in \u001b[0;36minner\u001b[1;34m(self, image, max_results, retry, timeout, **kwargs)\u001b[0m\n\u001b[0;32m     99\u001b[0m             \u001b[0mcopied_features\u001b[0m\u001b[1;33m[\u001b[0m\u001b[1;34m\"max_results\"\u001b[0m\u001b[1;33m]\u001b[0m \u001b[1;33m=\u001b[0m \u001b[0mmax_results\u001b[0m\u001b[1;33m\u001b[0m\u001b[1;33m\u001b[0m\u001b[0m\n\u001b[0;32m    100\u001b[0m         \u001b[0mrequest\u001b[0m \u001b[1;33m=\u001b[0m \u001b[0mdict\u001b[0m\u001b[1;33m(\u001b[0m\u001b[0mimage\u001b[0m\u001b[1;33m=\u001b[0m\u001b[0mimage\u001b[0m\u001b[1;33m,\u001b[0m \u001b[0mfeatures\u001b[0m\u001b[1;33m=\u001b[0m\u001b[1;33m[\u001b[0m\u001b[0mcopied_features\u001b[0m\u001b[1;33m]\u001b[0m\u001b[1;33m,\u001b[0m \u001b[1;33m**\u001b[0m\u001b[0mkwargs\u001b[0m\u001b[1;33m)\u001b[0m\u001b[1;33m\u001b[0m\u001b[1;33m\u001b[0m\u001b[0m\n\u001b[1;32m--> 101\u001b[1;33m         \u001b[0mresponse\u001b[0m \u001b[1;33m=\u001b[0m \u001b[0mself\u001b[0m\u001b[1;33m.\u001b[0m\u001b[0mannotate_image\u001b[0m\u001b[1;33m(\u001b[0m\u001b[0mrequest\u001b[0m\u001b[1;33m,\u001b[0m \u001b[0mretry\u001b[0m\u001b[1;33m=\u001b[0m\u001b[0mretry\u001b[0m\u001b[1;33m,\u001b[0m \u001b[0mtimeout\u001b[0m\u001b[1;33m=\u001b[0m\u001b[0mtimeout\u001b[0m\u001b[1;33m)\u001b[0m\u001b[1;33m\u001b[0m\u001b[1;33m\u001b[0m\u001b[0m\n\u001b[0m\u001b[0;32m    102\u001b[0m         \u001b[1;32mreturn\u001b[0m \u001b[0mresponse\u001b[0m\u001b[1;33m\u001b[0m\u001b[1;33m\u001b[0m\u001b[0m\n\u001b[0;32m    103\u001b[0m \u001b[1;33m\u001b[0m\u001b[0m\n",
      "\u001b[1;32m~\\Anaconda3\\lib\\site-packages\\google\\cloud\\vision_helpers\\__init__.py\u001b[0m in \u001b[0;36mannotate_image\u001b[1;34m(self, request, retry, timeout)\u001b[0m\n\u001b[0;32m     70\u001b[0m         \u001b[1;31m# of them.\u001b[0m\u001b[1;33m\u001b[0m\u001b[1;33m\u001b[0m\u001b[1;33m\u001b[0m\u001b[0m\n\u001b[0;32m     71\u001b[0m         \u001b[0mprotobuf\u001b[0m\u001b[1;33m.\u001b[0m\u001b[0msetdefault\u001b[0m\u001b[1;33m(\u001b[0m\u001b[0mrequest\u001b[0m\u001b[1;33m,\u001b[0m \u001b[1;34m\"features\"\u001b[0m\u001b[1;33m,\u001b[0m \u001b[0mself\u001b[0m\u001b[1;33m.\u001b[0m\u001b[0m_get_all_features\u001b[0m\u001b[1;33m(\u001b[0m\u001b[1;33m)\u001b[0m\u001b[1;33m)\u001b[0m\u001b[1;33m\u001b[0m\u001b[1;33m\u001b[0m\u001b[0m\n\u001b[1;32m---> 72\u001b[1;33m         \u001b[0mr\u001b[0m \u001b[1;33m=\u001b[0m \u001b[0mself\u001b[0m\u001b[1;33m.\u001b[0m\u001b[0mbatch_annotate_images\u001b[0m\u001b[1;33m(\u001b[0m\u001b[1;33m[\u001b[0m\u001b[0mrequest\u001b[0m\u001b[1;33m]\u001b[0m\u001b[1;33m,\u001b[0m \u001b[0mretry\u001b[0m\u001b[1;33m=\u001b[0m\u001b[0mretry\u001b[0m\u001b[1;33m,\u001b[0m \u001b[0mtimeout\u001b[0m\u001b[1;33m=\u001b[0m\u001b[0mtimeout\u001b[0m\u001b[1;33m)\u001b[0m\u001b[1;33m\u001b[0m\u001b[1;33m\u001b[0m\u001b[0m\n\u001b[0m\u001b[0;32m     73\u001b[0m         \u001b[1;32mreturn\u001b[0m \u001b[0mr\u001b[0m\u001b[1;33m.\u001b[0m\u001b[0mresponses\u001b[0m\u001b[1;33m[\u001b[0m\u001b[1;36m0\u001b[0m\u001b[1;33m]\u001b[0m\u001b[1;33m\u001b[0m\u001b[1;33m\u001b[0m\u001b[0m\n\u001b[0;32m     74\u001b[0m \u001b[1;33m\u001b[0m\u001b[0m\n",
      "\u001b[1;32m~\\Anaconda3\\lib\\site-packages\\google\\cloud\\vision_v1\\gapic\\image_annotator_client.py\u001b[0m in \u001b[0;36mbatch_annotate_images\u001b[1;34m(self, requests, retry, timeout, metadata)\u001b[0m\n\u001b[0;32m    230\u001b[0m         \u001b[0mrequest\u001b[0m \u001b[1;33m=\u001b[0m \u001b[0mimage_annotator_pb2\u001b[0m\u001b[1;33m.\u001b[0m\u001b[0mBatchAnnotateImagesRequest\u001b[0m\u001b[1;33m(\u001b[0m\u001b[0mrequests\u001b[0m\u001b[1;33m=\u001b[0m\u001b[0mrequests\u001b[0m\u001b[1;33m)\u001b[0m\u001b[1;33m\u001b[0m\u001b[1;33m\u001b[0m\u001b[0m\n\u001b[0;32m    231\u001b[0m         return self._inner_api_calls[\"batch_annotate_images\"](\n\u001b[1;32m--> 232\u001b[1;33m             \u001b[0mrequest\u001b[0m\u001b[1;33m,\u001b[0m \u001b[0mretry\u001b[0m\u001b[1;33m=\u001b[0m\u001b[0mretry\u001b[0m\u001b[1;33m,\u001b[0m \u001b[0mtimeout\u001b[0m\u001b[1;33m=\u001b[0m\u001b[0mtimeout\u001b[0m\u001b[1;33m,\u001b[0m \u001b[0mmetadata\u001b[0m\u001b[1;33m=\u001b[0m\u001b[0mmetadata\u001b[0m\u001b[1;33m\u001b[0m\u001b[1;33m\u001b[0m\u001b[0m\n\u001b[0m\u001b[0;32m    233\u001b[0m         )\n\u001b[0;32m    234\u001b[0m \u001b[1;33m\u001b[0m\u001b[0m\n",
      "\u001b[1;32m~\\Anaconda3\\lib\\site-packages\\google\\api_core\\gapic_v1\\method.py\u001b[0m in \u001b[0;36m__call__\u001b[1;34m(self, *args, **kwargs)\u001b[0m\n\u001b[0;32m    141\u001b[0m             \u001b[0mkwargs\u001b[0m\u001b[1;33m[\u001b[0m\u001b[1;34m\"metadata\"\u001b[0m\u001b[1;33m]\u001b[0m \u001b[1;33m=\u001b[0m \u001b[0mmetadata\u001b[0m\u001b[1;33m\u001b[0m\u001b[1;33m\u001b[0m\u001b[0m\n\u001b[0;32m    142\u001b[0m \u001b[1;33m\u001b[0m\u001b[0m\n\u001b[1;32m--> 143\u001b[1;33m         \u001b[1;32mreturn\u001b[0m \u001b[0mwrapped_func\u001b[0m\u001b[1;33m(\u001b[0m\u001b[1;33m*\u001b[0m\u001b[0margs\u001b[0m\u001b[1;33m,\u001b[0m \u001b[1;33m**\u001b[0m\u001b[0mkwargs\u001b[0m\u001b[1;33m)\u001b[0m\u001b[1;33m\u001b[0m\u001b[1;33m\u001b[0m\u001b[0m\n\u001b[0m\u001b[0;32m    144\u001b[0m \u001b[1;33m\u001b[0m\u001b[0m\n\u001b[0;32m    145\u001b[0m \u001b[1;33m\u001b[0m\u001b[0m\n",
      "\u001b[1;32m~\\Anaconda3\\lib\\site-packages\\google\\api_core\\grpc_helpers.py\u001b[0m in \u001b[0;36merror_remapped_callable\u001b[1;34m(*args, **kwargs)\u001b[0m\n\u001b[0;32m     57\u001b[0m             \u001b[1;32mreturn\u001b[0m \u001b[0mcallable_\u001b[0m\u001b[1;33m(\u001b[0m\u001b[1;33m*\u001b[0m\u001b[0margs\u001b[0m\u001b[1;33m,\u001b[0m \u001b[1;33m**\u001b[0m\u001b[0mkwargs\u001b[0m\u001b[1;33m)\u001b[0m\u001b[1;33m\u001b[0m\u001b[1;33m\u001b[0m\u001b[0m\n\u001b[0;32m     58\u001b[0m         \u001b[1;32mexcept\u001b[0m \u001b[0mgrpc\u001b[0m\u001b[1;33m.\u001b[0m\u001b[0mRpcError\u001b[0m \u001b[1;32mas\u001b[0m \u001b[0mexc\u001b[0m\u001b[1;33m:\u001b[0m\u001b[1;33m\u001b[0m\u001b[1;33m\u001b[0m\u001b[0m\n\u001b[1;32m---> 59\u001b[1;33m             \u001b[0msix\u001b[0m\u001b[1;33m.\u001b[0m\u001b[0mraise_from\u001b[0m\u001b[1;33m(\u001b[0m\u001b[0mexceptions\u001b[0m\u001b[1;33m.\u001b[0m\u001b[0mfrom_grpc_error\u001b[0m\u001b[1;33m(\u001b[0m\u001b[0mexc\u001b[0m\u001b[1;33m)\u001b[0m\u001b[1;33m,\u001b[0m \u001b[0mexc\u001b[0m\u001b[1;33m)\u001b[0m\u001b[1;33m\u001b[0m\u001b[1;33m\u001b[0m\u001b[0m\n\u001b[0m\u001b[0;32m     60\u001b[0m \u001b[1;33m\u001b[0m\u001b[0m\n\u001b[0;32m     61\u001b[0m     \u001b[1;32mreturn\u001b[0m \u001b[0merror_remapped_callable\u001b[0m\u001b[1;33m\u001b[0m\u001b[1;33m\u001b[0m\u001b[0m\n",
      "\u001b[1;32m~\\Anaconda3\\lib\\site-packages\\six.py\u001b[0m in \u001b[0;36mraise_from\u001b[1;34m(value, from_value)\u001b[0m\n",
      "\u001b[1;31mPermissionDenied\u001b[0m: 403 This API method requires billing to be enabled. Please enable billing on project #362773534056 by visiting https://console.developers.google.com/billing/enable?project=362773534056 then retry. If you enabled billing for this project recently, wait a few minutes for the action to propagate to our systems and retry."
     ]
    }
   ],
   "source": [
    "detect_document('evaluationpythondeveloperassessmentravi/report1.jpg')"
   ]
  },
  {
   "cell_type": "code",
   "execution_count": 14,
   "metadata": {
    "ExecuteTime": {
     "end_time": "2019-06-12T01:57:53.565195Z",
     "start_time": "2019-06-12T01:57:27.143372Z"
    }
   },
   "outputs": [
    {
     "name": "stdout",
     "output_type": "stream",
     "text": [
      "Collecting watson-developer-cloud\n",
      "  Downloading https://files.pythonhosted.org/packages/fc/a5/a89fc49bd82eb6ea569e45b43383c28cd51b5076f43010dcc3331c137ff5/watson-developer-cloud-2.10.1.tar.gz (248kB)\n",
      "Requirement already satisfied, skipping upgrade: requests<3.0,>=2.0 in c:\\users\\ravi\\anaconda3\\lib\\site-packages (from watson-developer-cloud) (2.21.0)\n",
      "Requirement already satisfied, skipping upgrade: python_dateutil>=2.5.3 in c:\\users\\ravi\\anaconda3\\lib\\site-packages (from watson-developer-cloud) (2.8.0)\n",
      "Collecting websocket-client==0.48.0 (from watson-developer-cloud)\n",
      "  Downloading https://files.pythonhosted.org/packages/8a/a1/72ef9aa26cfe1a75cee09fc1957e4723add9de098c15719416a1ee89386b/websocket_client-0.48.0-py2.py3-none-any.whl (198kB)\n",
      "Requirement already satisfied, skipping upgrade: idna<2.9,>=2.5 in c:\\users\\ravi\\anaconda3\\lib\\site-packages (from requests<3.0,>=2.0->watson-developer-cloud) (2.8)\n",
      "Requirement already satisfied, skipping upgrade: urllib3<1.25,>=1.21.1 in c:\\users\\ravi\\anaconda3\\lib\\site-packages (from requests<3.0,>=2.0->watson-developer-cloud) (1.24.1)\n",
      "Requirement already satisfied, skipping upgrade: chardet<3.1.0,>=3.0.2 in c:\\users\\ravi\\anaconda3\\lib\\site-packages (from requests<3.0,>=2.0->watson-developer-cloud) (3.0.4)\n",
      "Requirement already satisfied, skipping upgrade: certifi>=2017.4.17 in c:\\users\\ravi\\anaconda3\\lib\\site-packages (from requests<3.0,>=2.0->watson-developer-cloud) (2019.3.9)\n",
      "Requirement already satisfied, skipping upgrade: six>=1.5 in c:\\users\\ravi\\anaconda3\\lib\\site-packages (from python_dateutil>=2.5.3->watson-developer-cloud) (1.12.0)\n",
      "Building wheels for collected packages: watson-developer-cloud\n",
      "  Building wheel for watson-developer-cloud (setup.py): started\n",
      "  Building wheel for watson-developer-cloud (setup.py): finished with status 'done'\n",
      "  Stored in directory: C:\\Users\\Ravi\\AppData\\Local\\pip\\Cache\\wheels\\ea\\a7\\19\\fac0a408a586265eb374005308a7553d4494ab41b2fd88f5bc\n",
      "Successfully built watson-developer-cloud\n",
      "Installing collected packages: websocket-client, watson-developer-cloud\n",
      "Successfully installed watson-developer-cloud-2.10.1 websocket-client-0.48.0\n"
     ]
    }
   ],
   "source": [
    "# Watson \n",
    "\n",
    "# Classifier Id:recognize_text\n",
    "!pip install --upgrade watson-developer-cloud"
   ]
  },
  {
   "cell_type": "code",
   "execution_count": 28,
   "metadata": {
    "ExecuteTime": {
     "end_time": "2019-06-12T02:15:07.331035Z",
     "start_time": "2019-06-12T02:14:59.934437Z"
    }
   },
   "outputs": [
    {
     "name": "stderr",
     "output_type": "stream",
     "text": [
      "C:\\Users\\Ravi\\Anaconda3\\lib\\site-packages\\ipykernel_launcher.py:3: DeprecationWarning: watson-developer-cloud moved to ibm-watson. To get updates, use the new package.\n",
      "  This is separate from the ipykernel package so we can avoid doing imports until\n"
     ]
    },
    {
     "ename": "TypeError",
     "evalue": "Object of type 'DetailedResponse' is not JSON serializable",
     "output_type": "error",
     "traceback": [
      "\u001b[1;31m---------------------------------------------------------------------------\u001b[0m",
      "\u001b[1;31mTypeError\u001b[0m                                 Traceback (most recent call last)",
      "\u001b[1;32m<ipython-input-28-cab96e56e745>\u001b[0m in \u001b[0;36m<module>\u001b[1;34m\u001b[0m\n\u001b[0;32m      6\u001b[0m     \u001b[1;32mtry\u001b[0m\u001b[1;33m:\u001b[0m\u001b[1;33m\u001b[0m\u001b[1;33m\u001b[0m\u001b[0m\n\u001b[0;32m      7\u001b[0m         \u001b[0mresponse\u001b[0m \u001b[1;33m=\u001b[0m \u001b[0mvisual_recognition\u001b[0m\u001b[1;33m.\u001b[0m\u001b[0mclassify\u001b[0m\u001b[1;33m(\u001b[0m\u001b[0mimages_zip\u001b[0m\u001b[1;33m,\u001b[0m \u001b[0mthreshold\u001b[0m\u001b[1;33m=\u001b[0m\u001b[1;36m0.0\u001b[0m\u001b[1;33m)\u001b[0m\u001b[1;33m\u001b[0m\u001b[1;33m\u001b[0m\u001b[0m\n\u001b[1;32m----> 8\u001b[1;33m         \u001b[0mprint\u001b[0m\u001b[1;33m(\u001b[0m\u001b[0mjson\u001b[0m\u001b[1;33m.\u001b[0m\u001b[0mdumps\u001b[0m\u001b[1;33m(\u001b[0m\u001b[0mresponse\u001b[0m\u001b[1;33m,\u001b[0m \u001b[0mindent\u001b[0m\u001b[1;33m=\u001b[0m\u001b[1;36m1\u001b[0m\u001b[1;33m)\u001b[0m\u001b[1;33m)\u001b[0m\u001b[1;33m\u001b[0m\u001b[1;33m\u001b[0m\u001b[0m\n\u001b[0m\u001b[0;32m      9\u001b[0m     \u001b[1;32mexcept\u001b[0m \u001b[0mWatsonApiException\u001b[0m \u001b[1;32mas\u001b[0m \u001b[0mex\u001b[0m\u001b[1;33m:\u001b[0m\u001b[1;33m\u001b[0m\u001b[1;33m\u001b[0m\u001b[0m\n\u001b[0;32m     10\u001b[0m         \u001b[0mprint\u001b[0m\u001b[1;33m(\u001b[0m\u001b[1;34m\"Status code: {}\\nError message: {}\\nError info: \\n{}\"\u001b[0m\u001b[1;33m.\u001b[0m\u001b[0mformat\u001b[0m\u001b[1;33m(\u001b[0m\u001b[0mex\u001b[0m\u001b[1;33m.\u001b[0m\u001b[0mcode\u001b[0m\u001b[1;33m,\u001b[0m \u001b[0mex\u001b[0m\u001b[1;33m.\u001b[0m\u001b[0mmessage\u001b[0m\u001b[1;33m,\u001b[0m \u001b[0mjson\u001b[0m\u001b[1;33m.\u001b[0m\u001b[0mdumps\u001b[0m\u001b[1;33m(\u001b[0m\u001b[0mex\u001b[0m\u001b[1;33m.\u001b[0m\u001b[0minfo\u001b[0m\u001b[1;33m,\u001b[0m \u001b[0mindent\u001b[0m\u001b[1;33m=\u001b[0m\u001b[1;36m1\u001b[0m\u001b[1;33m)\u001b[0m\u001b[1;33m)\u001b[0m\u001b[1;33m)\u001b[0m\u001b[1;33m\u001b[0m\u001b[1;33m\u001b[0m\u001b[0m\n",
      "\u001b[1;32m~\\Anaconda3\\lib\\json\\__init__.py\u001b[0m in \u001b[0;36mdumps\u001b[1;34m(obj, skipkeys, ensure_ascii, check_circular, allow_nan, cls, indent, separators, default, sort_keys, **kw)\u001b[0m\n\u001b[0;32m    236\u001b[0m         \u001b[0mcheck_circular\u001b[0m\u001b[1;33m=\u001b[0m\u001b[0mcheck_circular\u001b[0m\u001b[1;33m,\u001b[0m \u001b[0mallow_nan\u001b[0m\u001b[1;33m=\u001b[0m\u001b[0mallow_nan\u001b[0m\u001b[1;33m,\u001b[0m \u001b[0mindent\u001b[0m\u001b[1;33m=\u001b[0m\u001b[0mindent\u001b[0m\u001b[1;33m,\u001b[0m\u001b[1;33m\u001b[0m\u001b[1;33m\u001b[0m\u001b[0m\n\u001b[0;32m    237\u001b[0m         \u001b[0mseparators\u001b[0m\u001b[1;33m=\u001b[0m\u001b[0mseparators\u001b[0m\u001b[1;33m,\u001b[0m \u001b[0mdefault\u001b[0m\u001b[1;33m=\u001b[0m\u001b[0mdefault\u001b[0m\u001b[1;33m,\u001b[0m \u001b[0msort_keys\u001b[0m\u001b[1;33m=\u001b[0m\u001b[0msort_keys\u001b[0m\u001b[1;33m,\u001b[0m\u001b[1;33m\u001b[0m\u001b[1;33m\u001b[0m\u001b[0m\n\u001b[1;32m--> 238\u001b[1;33m         **kw).encode(obj)\n\u001b[0m\u001b[0;32m    239\u001b[0m \u001b[1;33m\u001b[0m\u001b[0m\n\u001b[0;32m    240\u001b[0m \u001b[1;33m\u001b[0m\u001b[0m\n",
      "\u001b[1;32m~\\Anaconda3\\lib\\json\\encoder.py\u001b[0m in \u001b[0;36mencode\u001b[1;34m(self, o)\u001b[0m\n\u001b[0;32m    199\u001b[0m         \u001b[0mchunks\u001b[0m \u001b[1;33m=\u001b[0m \u001b[0mself\u001b[0m\u001b[1;33m.\u001b[0m\u001b[0miterencode\u001b[0m\u001b[1;33m(\u001b[0m\u001b[0mo\u001b[0m\u001b[1;33m,\u001b[0m \u001b[0m_one_shot\u001b[0m\u001b[1;33m=\u001b[0m\u001b[1;32mTrue\u001b[0m\u001b[1;33m)\u001b[0m\u001b[1;33m\u001b[0m\u001b[1;33m\u001b[0m\u001b[0m\n\u001b[0;32m    200\u001b[0m         \u001b[1;32mif\u001b[0m \u001b[1;32mnot\u001b[0m \u001b[0misinstance\u001b[0m\u001b[1;33m(\u001b[0m\u001b[0mchunks\u001b[0m\u001b[1;33m,\u001b[0m \u001b[1;33m(\u001b[0m\u001b[0mlist\u001b[0m\u001b[1;33m,\u001b[0m \u001b[0mtuple\u001b[0m\u001b[1;33m)\u001b[0m\u001b[1;33m)\u001b[0m\u001b[1;33m:\u001b[0m\u001b[1;33m\u001b[0m\u001b[1;33m\u001b[0m\u001b[0m\n\u001b[1;32m--> 201\u001b[1;33m             \u001b[0mchunks\u001b[0m \u001b[1;33m=\u001b[0m \u001b[0mlist\u001b[0m\u001b[1;33m(\u001b[0m\u001b[0mchunks\u001b[0m\u001b[1;33m)\u001b[0m\u001b[1;33m\u001b[0m\u001b[1;33m\u001b[0m\u001b[0m\n\u001b[0m\u001b[0;32m    202\u001b[0m         \u001b[1;32mreturn\u001b[0m \u001b[1;34m''\u001b[0m\u001b[1;33m.\u001b[0m\u001b[0mjoin\u001b[0m\u001b[1;33m(\u001b[0m\u001b[0mchunks\u001b[0m\u001b[1;33m)\u001b[0m\u001b[1;33m\u001b[0m\u001b[1;33m\u001b[0m\u001b[0m\n\u001b[0;32m    203\u001b[0m \u001b[1;33m\u001b[0m\u001b[0m\n",
      "\u001b[1;32m~\\Anaconda3\\lib\\json\\encoder.py\u001b[0m in \u001b[0;36m_iterencode\u001b[1;34m(o, _current_indent_level)\u001b[0m\n\u001b[0;32m    435\u001b[0m                     \u001b[1;32mraise\u001b[0m \u001b[0mValueError\u001b[0m\u001b[1;33m(\u001b[0m\u001b[1;34m\"Circular reference detected\"\u001b[0m\u001b[1;33m)\u001b[0m\u001b[1;33m\u001b[0m\u001b[1;33m\u001b[0m\u001b[0m\n\u001b[0;32m    436\u001b[0m                 \u001b[0mmarkers\u001b[0m\u001b[1;33m[\u001b[0m\u001b[0mmarkerid\u001b[0m\u001b[1;33m]\u001b[0m \u001b[1;33m=\u001b[0m \u001b[0mo\u001b[0m\u001b[1;33m\u001b[0m\u001b[1;33m\u001b[0m\u001b[0m\n\u001b[1;32m--> 437\u001b[1;33m             \u001b[0mo\u001b[0m \u001b[1;33m=\u001b[0m \u001b[0m_default\u001b[0m\u001b[1;33m(\u001b[0m\u001b[0mo\u001b[0m\u001b[1;33m)\u001b[0m\u001b[1;33m\u001b[0m\u001b[1;33m\u001b[0m\u001b[0m\n\u001b[0m\u001b[0;32m    438\u001b[0m             \u001b[1;32myield\u001b[0m \u001b[1;32mfrom\u001b[0m \u001b[0m_iterencode\u001b[0m\u001b[1;33m(\u001b[0m\u001b[0mo\u001b[0m\u001b[1;33m,\u001b[0m \u001b[0m_current_indent_level\u001b[0m\u001b[1;33m)\u001b[0m\u001b[1;33m\u001b[0m\u001b[1;33m\u001b[0m\u001b[0m\n\u001b[0;32m    439\u001b[0m             \u001b[1;32mif\u001b[0m \u001b[0mmarkers\u001b[0m \u001b[1;32mis\u001b[0m \u001b[1;32mnot\u001b[0m \u001b[1;32mNone\u001b[0m\u001b[1;33m:\u001b[0m\u001b[1;33m\u001b[0m\u001b[1;33m\u001b[0m\u001b[0m\n",
      "\u001b[1;32m~\\Anaconda3\\lib\\json\\encoder.py\u001b[0m in \u001b[0;36mdefault\u001b[1;34m(self, o)\u001b[0m\n\u001b[0;32m    178\u001b[0m         \"\"\"\n\u001b[0;32m    179\u001b[0m         raise TypeError(\"Object of type '%s' is not JSON serializable\" %\n\u001b[1;32m--> 180\u001b[1;33m                         o.__class__.__name__)\n\u001b[0m\u001b[0;32m    181\u001b[0m \u001b[1;33m\u001b[0m\u001b[0m\n\u001b[0;32m    182\u001b[0m     \u001b[1;32mdef\u001b[0m \u001b[0mencode\u001b[0m\u001b[1;33m(\u001b[0m\u001b[0mself\u001b[0m\u001b[1;33m,\u001b[0m \u001b[0mo\u001b[0m\u001b[1;33m)\u001b[0m\u001b[1;33m:\u001b[0m\u001b[1;33m\u001b[0m\u001b[1;33m\u001b[0m\u001b[0m\n",
      "\u001b[1;31mTypeError\u001b[0m: Object of type 'DetailedResponse' is not JSON serializable"
     ]
    }
   ],
   "source": [
    "import json\n",
    "from watson_developer_cloud import VisualRecognitionV3,WatsonApiException\n",
    "visual_recognition = VisualRecognitionV3('2016-05-20',iam_apikey='bFXv7ospB46WhFv40G-A6I8kK9vYO4FNs9GZpuMgo1HM')\n",
    "\n",
    "with open('evaluationpythondeveloperassessmentravi/report1.jpg', 'rb') as images_zip:\n",
    "    try:\n",
    "        response = visual_recognition.classify(images_zip, threshold=0.0)\n",
    "        print(json.dumps(response, indent=1))\n",
    "    except WatsonApiException as ex:\n",
    "        print(\"Status code: {}\\nError message: {}\\nError info: \\n{}\".format(ex.code, ex.message, json.dumps(ex.info, indent=1)))"
   ]
  },
  {
   "cell_type": "code",
   "execution_count": 22,
   "metadata": {
    "ExecuteTime": {
     "end_time": "2019-06-12T02:09:28.649290Z",
     "start_time": "2019-06-12T02:08:59.397959Z"
    }
   },
   "outputs": [
    {
     "name": "stdout",
     "output_type": "stream",
     "text": [
      "Collecting ibm-watson\n",
      "  Downloading https://files.pythonhosted.org/packages/af/82/a0a8555e37c6822bc63b6170d6f30d3681c3ec987b3ab9b8f83f9b3887a3/ibm-watson-3.0.4.tar.gz (246kB)\n",
      "Requirement already satisfied: requests<3.0,>=2.0 in c:\\users\\ravi\\anaconda3\\lib\\site-packages (from ibm-watson) (2.21.0)\n",
      "Requirement already satisfied: python_dateutil>=2.5.3 in c:\\users\\ravi\\anaconda3\\lib\\site-packages (from ibm-watson) (2.8.0)\n",
      "Requirement already satisfied: websocket-client==0.48.0 in c:\\users\\ravi\\anaconda3\\lib\\site-packages (from ibm-watson) (0.48.0)\n",
      "Collecting ibm_cloud_sdk_core>=0.2.0 (from ibm-watson)\n",
      "  Downloading https://files.pythonhosted.org/packages/bb/66/9a5df4bf4380d995371c5b3b71ed7aab313e690ae9d157f4070f18a823e6/ibm-cloud-sdk-core-0.5.0.tar.gz\n",
      "Requirement already satisfied: urllib3<1.25,>=1.21.1 in c:\\users\\ravi\\anaconda3\\lib\\site-packages (from requests<3.0,>=2.0->ibm-watson) (1.24.1)\n",
      "Requirement already satisfied: idna<2.9,>=2.5 in c:\\users\\ravi\\anaconda3\\lib\\site-packages (from requests<3.0,>=2.0->ibm-watson) (2.8)\n",
      "Requirement already satisfied: certifi>=2017.4.17 in c:\\users\\ravi\\anaconda3\\lib\\site-packages (from requests<3.0,>=2.0->ibm-watson) (2019.3.9)\n",
      "Requirement already satisfied: chardet<3.1.0,>=3.0.2 in c:\\users\\ravi\\anaconda3\\lib\\site-packages (from requests<3.0,>=2.0->ibm-watson) (3.0.4)\n",
      "Requirement already satisfied: six>=1.5 in c:\\users\\ravi\\anaconda3\\lib\\site-packages (from python_dateutil>=2.5.3->ibm-watson) (1.12.0)\n",
      "Collecting PyJWT>=1.7.1 (from ibm_cloud_sdk_core>=0.2.0->ibm-watson)\n",
      "  Downloading https://files.pythonhosted.org/packages/87/8b/6a9f14b5f781697e51259d81657e6048fd31a113229cf346880bb7545565/PyJWT-1.7.1-py2.py3-none-any.whl\n",
      "Building wheels for collected packages: ibm-watson, ibm-cloud-sdk-core\n",
      "  Building wheel for ibm-watson (setup.py): started\n",
      "  Building wheel for ibm-watson (setup.py): finished with status 'done'\n",
      "  Stored in directory: C:\\Users\\Ravi\\AppData\\Local\\pip\\Cache\\wheels\\b0\\b4\\42\\15563549063278065c74f6fabcd9eae12666230edebbac9a66\n",
      "  Building wheel for ibm-cloud-sdk-core (setup.py): started\n",
      "  Building wheel for ibm-cloud-sdk-core (setup.py): finished with status 'done'\n",
      "  Stored in directory: C:\\Users\\Ravi\\AppData\\Local\\pip\\Cache\\wheels\\3a\\60\\2a\\a19a6697f9804769fdd6f0530e1aa7262eb2c2bc56c7a22a73\n",
      "Successfully built ibm-watson ibm-cloud-sdk-core\n",
      "Installing collected packages: PyJWT, ibm-cloud-sdk-core, ibm-watson\n",
      "Successfully installed PyJWT-1.7.1 ibm-cloud-sdk-core-0.5.0 ibm-watson-3.0.4\n"
     ]
    }
   ],
   "source": [
    "!pip install ibm-watson"
   ]
  },
  {
   "cell_type": "code",
   "execution_count": 39,
   "metadata": {
    "ExecuteTime": {
     "end_time": "2019-06-12T03:03:11.869077Z",
     "start_time": "2019-06-12T03:03:09.242993Z"
    }
   },
   "outputs": [
    {
     "name": "stdout",
     "output_type": "stream",
     "text": [
      "Status code: 404\n",
      "Error message: Unknown error\n",
      "Error info: \n",
      "404\n"
     ]
    }
   ],
   "source": [
    "# Proper documentation not provided for text recognition\n",
    "import json\n",
    "from ibm_watson import VisualRecognitionV3, ApiException\n",
    "visual_recognition = VisualRecognitionV3('2019-05-20',iam_apikey='bFXv7ospB46WhFv40G-A6I8kK9vYO4FNs9GZpuMgo1HM')\n",
    "\n",
    "with open('evaluationpythondeveloperassessmentravi/report2.jpg', 'rb') as images_zip:\n",
    "    try:\n",
    "        response = visual_recognition.classify(images_zip, threshold=0.0)\n",
    "        print(json.dumps(response.result, indent=1))\n",
    "    except ApiException as ex:\n",
    "        print(\"Status code: {}\\nError message: {}\\nError info: \\n{}\".format(ex.code, ex.message, json.dumps(ex.code, indent=1)))"
   ]
  },
  {
   "cell_type": "code",
   "execution_count": 40,
   "metadata": {
    "ExecuteTime": {
     "end_time": "2019-06-12T03:53:04.141081Z",
     "start_time": "2019-06-12T03:52:45.780479Z"
    }
   },
   "outputs": [
    {
     "name": "stdout",
     "output_type": "stream",
     "text": [
      "Collecting azure-cognitiveservices-vision-computervision\n",
      "  Downloading https://files.pythonhosted.org/packages/6e/c9/1d9c2a892af3058b7f047de0990d1956e34118666861f8215446d56ffe95/azure_cognitiveservices_vision_computervision-0.3.0-py2.py3-none-any.whl (84kB)\n",
      "Collecting azure-common~=1.1 (from azure-cognitiveservices-vision-computervision)\n",
      "  Downloading https://files.pythonhosted.org/packages/e3/36/9946fa617f458f11766884c76c622810f4c111ee16c08eb8315e88330d66/azure_common-1.1.22-py2.py3-none-any.whl\n",
      "Collecting msrest>=0.5.0 (from azure-cognitiveservices-vision-computervision)\n",
      "  Downloading https://files.pythonhosted.org/packages/d7/fa/bb4197e25ff01d089dc0584ad8e7d6c2615ae28b9e850afd165927c89576/msrest-0.6.6-py2.py3-none-any.whl (81kB)\n",
      "Requirement already satisfied: certifi>=2017.4.17 in c:\\users\\ravi\\anaconda3\\lib\\site-packages (from msrest>=0.5.0->azure-cognitiveservices-vision-computervision) (2019.3.9)\n",
      "Collecting isodate>=0.6.0 (from msrest>=0.5.0->azure-cognitiveservices-vision-computervision)\n",
      "  Downloading https://files.pythonhosted.org/packages/9b/9f/b36f7774ff5ea8e428fdcfc4bb332c39ee5b9362ddd3d40d9516a55221b2/isodate-0.6.0-py2.py3-none-any.whl (45kB)\n",
      "Collecting requests-oauthlib>=0.5.0 (from msrest>=0.5.0->azure-cognitiveservices-vision-computervision)\n",
      "  Downloading https://files.pythonhosted.org/packages/c2/e2/9fd03d55ffb70fe51f587f20bcf407a6927eb121de86928b34d162f0b1ac/requests_oauthlib-1.2.0-py2.py3-none-any.whl\n",
      "Requirement already satisfied: requests~=2.16 in c:\\users\\ravi\\anaconda3\\lib\\site-packages (from msrest>=0.5.0->azure-cognitiveservices-vision-computervision) (2.21.0)\n",
      "Requirement already satisfied: six in c:\\users\\ravi\\anaconda3\\lib\\site-packages (from isodate>=0.6.0->msrest>=0.5.0->azure-cognitiveservices-vision-computervision) (1.12.0)\n",
      "Collecting oauthlib>=3.0.0 (from requests-oauthlib>=0.5.0->msrest>=0.5.0->azure-cognitiveservices-vision-computervision)\n",
      "  Downloading https://files.pythonhosted.org/packages/16/95/699466b05b72b94a41f662dc9edf87fda4289e3602ecd42d27fcaddf7b56/oauthlib-3.0.1-py2.py3-none-any.whl (142kB)\n",
      "Requirement already satisfied: idna<2.9,>=2.5 in c:\\users\\ravi\\anaconda3\\lib\\site-packages (from requests~=2.16->msrest>=0.5.0->azure-cognitiveservices-vision-computervision) (2.8)\n",
      "Requirement already satisfied: urllib3<1.25,>=1.21.1 in c:\\users\\ravi\\anaconda3\\lib\\site-packages (from requests~=2.16->msrest>=0.5.0->azure-cognitiveservices-vision-computervision) (1.24.1)\n",
      "Requirement already satisfied: chardet<3.1.0,>=3.0.2 in c:\\users\\ravi\\anaconda3\\lib\\site-packages (from requests~=2.16->msrest>=0.5.0->azure-cognitiveservices-vision-computervision) (3.0.4)\n",
      "Installing collected packages: azure-common, isodate, oauthlib, requests-oauthlib, msrest, azure-cognitiveservices-vision-computervision\n",
      "Successfully installed azure-cognitiveservices-vision-computervision-0.3.0 azure-common-1.1.22 isodate-0.6.0 msrest-0.6.6 oauthlib-3.0.1 requests-oauthlib-1.2.0\n"
     ]
    }
   ],
   "source": [
    "# AZURE COMPUTER VISION API\n",
    "!pip install azure-cognitiveservices-vision-computervision"
   ]
  },
  {
   "cell_type": "code",
   "execution_count": null,
   "metadata": {},
   "outputs": [],
   "source": [
    "# DONOT HAVE CREDIT CARDv a  vf43"
   ]
  }
 ],
 "metadata": {
  "kernelspec": {
   "display_name": "Python 3",
   "language": "python",
   "name": "python3"
  },
  "language_info": {
   "codemirror_mode": {
    "name": "ipython",
    "version": 3
   },
   "file_extension": ".py",
   "mimetype": "text/x-python",
   "name": "python",
   "nbconvert_exporter": "python",
   "pygments_lexer": "ipython3",
   "version": "3.6.8"
  },
  "varInspector": {
   "cols": {
    "lenName": 16,
    "lenType": 16,
    "lenVar": 40
   },
   "kernels_config": {
    "python": {
     "delete_cmd_postfix": "",
     "delete_cmd_prefix": "del ",
     "library": "var_list.py",
     "varRefreshCmd": "print(var_dic_list())"
    },
    "r": {
     "delete_cmd_postfix": ") ",
     "delete_cmd_prefix": "rm(",
     "library": "var_list.r",
     "varRefreshCmd": "cat(var_dic_list()) "
    }
   },
   "types_to_exclude": [
    "module",
    "function",
    "builtin_function_or_method",
    "instance",
    "_Feature"
   ],
   "window_display": false
  }
 },
 "nbformat": 4,
 "nbformat_minor": 2
}
